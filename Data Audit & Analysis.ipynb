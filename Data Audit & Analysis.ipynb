{
 "cells": [
  {
   "cell_type": "markdown",
   "metadata": {},
   "source": [
    "# Data Audit"
   ]
  },
  {
   "cell_type": "markdown",
   "metadata": {},
   "source": [
    "Unfortunately, twitter's free API only provides up to 7 days of tweet history, and Apple has not posted anything in that time frame. Thus, in this notebook, we are going to look exclusively at the financial data for AAPL for the last 30 days. \n"
   ]
  },
  {
   "cell_type": "markdown",
   "metadata": {},
   "source": [
    "Let's grab the data we put in BigQuery. Since it's not much, we can grab all of it. "
   ]
  },
  {
   "cell_type": "code",
   "execution_count": 27,
   "metadata": {},
   "outputs": [
    {
     "name": "stdout",
     "output_type": "stream",
     "text": [
      "There are 88 rows.\n"
     ]
    },
    {
     "data": {
      "text/html": [
       "<div>\n",
       "<style scoped>\n",
       "    .dataframe tbody tr th:only-of-type {\n",
       "        vertical-align: middle;\n",
       "    }\n",
       "\n",
       "    .dataframe tbody tr th {\n",
       "        vertical-align: top;\n",
       "    }\n",
       "\n",
       "    .dataframe thead th {\n",
       "        text-align: right;\n",
       "    }\n",
       "</style>\n",
       "<table border=\"1\" class=\"dataframe\">\n",
       "  <thead>\n",
       "    <tr style=\"text-align: right;\">\n",
       "      <th></th>\n",
       "      <th>volume</th>\n",
       "      <th>timestamp</th>\n",
       "      <th>symbol</th>\n",
       "      <th>high</th>\n",
       "      <th>tradingDay</th>\n",
       "      <th>low</th>\n",
       "      <th>close</th>\n",
       "      <th>openInterest</th>\n",
       "      <th>open</th>\n",
       "    </tr>\n",
       "  </thead>\n",
       "  <tbody>\n",
       "    <tr>\n",
       "      <th>0</th>\n",
       "      <td>24796300</td>\n",
       "      <td>2019-03-07 05:00:00+00:00</td>\n",
       "      <td>AAPL</td>\n",
       "      <td>174.44</td>\n",
       "      <td>2019-03-07</td>\n",
       "      <td>172.02</td>\n",
       "      <td>172.50</td>\n",
       "      <td>None</td>\n",
       "      <td>173.87</td>\n",
       "    </tr>\n",
       "    <tr>\n",
       "      <th>1</th>\n",
       "      <td>23999300</td>\n",
       "      <td>2019-03-08 05:00:00+00:00</td>\n",
       "      <td>AAPL</td>\n",
       "      <td>173.07</td>\n",
       "      <td>2019-03-08</td>\n",
       "      <td>169.50</td>\n",
       "      <td>172.91</td>\n",
       "      <td>None</td>\n",
       "      <td>170.32</td>\n",
       "    </tr>\n",
       "    <tr>\n",
       "      <th>2</th>\n",
       "      <td>32011000</td>\n",
       "      <td>2019-03-11 04:00:00+00:00</td>\n",
       "      <td>AAPL</td>\n",
       "      <td>179.12</td>\n",
       "      <td>2019-03-11</td>\n",
       "      <td>175.35</td>\n",
       "      <td>178.90</td>\n",
       "      <td>None</td>\n",
       "      <td>175.49</td>\n",
       "    </tr>\n",
       "    <tr>\n",
       "      <th>3</th>\n",
       "      <td>32467500</td>\n",
       "      <td>2019-03-12 04:00:00+00:00</td>\n",
       "      <td>AAPL</td>\n",
       "      <td>182.67</td>\n",
       "      <td>2019-03-12</td>\n",
       "      <td>179.37</td>\n",
       "      <td>180.91</td>\n",
       "      <td>None</td>\n",
       "      <td>180.00</td>\n",
       "    </tr>\n",
       "    <tr>\n",
       "      <th>4</th>\n",
       "      <td>31032500</td>\n",
       "      <td>2019-03-13 04:00:00+00:00</td>\n",
       "      <td>AAPL</td>\n",
       "      <td>183.30</td>\n",
       "      <td>2019-03-13</td>\n",
       "      <td>180.92</td>\n",
       "      <td>181.71</td>\n",
       "      <td>None</td>\n",
       "      <td>182.25</td>\n",
       "    </tr>\n",
       "  </tbody>\n",
       "</table>\n",
       "</div>"
      ],
      "text/plain": [
       "     volume                 timestamp symbol    high  tradingDay     low  \\\n",
       "0  24796300 2019-03-07 05:00:00+00:00   AAPL  174.44  2019-03-07  172.02   \n",
       "1  23999300 2019-03-08 05:00:00+00:00   AAPL  173.07  2019-03-08  169.50   \n",
       "2  32011000 2019-03-11 04:00:00+00:00   AAPL  179.12  2019-03-11  175.35   \n",
       "3  32467500 2019-03-12 04:00:00+00:00   AAPL  182.67  2019-03-12  179.37   \n",
       "4  31032500 2019-03-13 04:00:00+00:00   AAPL  183.30  2019-03-13  180.92   \n",
       "\n",
       "    close openInterest    open  \n",
       "0  172.50         None  173.87  \n",
       "1  172.91         None  170.32  \n",
       "2  178.90         None  175.49  \n",
       "3  180.91         None  180.00  \n",
       "4  181.71         None  182.25  "
      ]
     },
     "execution_count": 27,
     "metadata": {},
     "output_type": "execute_result"
    }
   ],
   "source": [
    "import google.cloud.bigquery as bq\n",
    "import pandas as pd\n",
    "\n",
    "client = bq.Client()\n",
    "sql = \"\"\"\n",
    "    SELECT * FROM `test-project-datalab-225214.AAPL.stocks`\n",
    "\"\"\"\n",
    "stock_data = client.query(sql).to_dataframe()\n",
    "\n",
    "print(\"There are {} rows.\".format(len(stock_data)))\n",
    "stock_data.head()\n"
   ]
  },
  {
   "cell_type": "markdown",
   "metadata": {},
   "source": [
    "Let's see what the Null/None values are"
   ]
  },
  {
   "cell_type": "code",
   "execution_count": 28,
   "metadata": {},
   "outputs": [
    {
     "data": {
      "text/plain": [
       "volume           0\n",
       "timestamp        0\n",
       "symbol           0\n",
       "high             0\n",
       "tradingDay       0\n",
       "low              0\n",
       "close            0\n",
       "openInterest    88\n",
       "open             0\n",
       "dtype: int64"
      ]
     },
     "execution_count": 28,
     "metadata": {},
     "output_type": "execute_result"
    }
   ],
   "source": [
    "stock_data.isna().sum()"
   ]
  },
  {
   "cell_type": "markdown",
   "metadata": {},
   "source": [
    "It looks like openInterest field is always None. We can get rid of this field. The other fields are okay."
   ]
  },
  {
   "cell_type": "code",
   "execution_count": 29,
   "metadata": {},
   "outputs": [],
   "source": [
    "df = stock_data.copy(deep=True)\n",
    "df.drop('openInterest', axis=1, inplace=True)\n"
   ]
  },
  {
   "cell_type": "code",
   "execution_count": 30,
   "metadata": {},
   "outputs": [
    {
     "data": {
      "text/html": [
       "<div>\n",
       "<style scoped>\n",
       "    .dataframe tbody tr th:only-of-type {\n",
       "        vertical-align: middle;\n",
       "    }\n",
       "\n",
       "    .dataframe tbody tr th {\n",
       "        vertical-align: top;\n",
       "    }\n",
       "\n",
       "    .dataframe thead th {\n",
       "        text-align: right;\n",
       "    }\n",
       "</style>\n",
       "<table border=\"1\" class=\"dataframe\">\n",
       "  <thead>\n",
       "    <tr style=\"text-align: right;\">\n",
       "      <th></th>\n",
       "      <th>volume</th>\n",
       "      <th>high</th>\n",
       "      <th>low</th>\n",
       "      <th>close</th>\n",
       "      <th>open</th>\n",
       "    </tr>\n",
       "  </thead>\n",
       "  <tbody>\n",
       "    <tr>\n",
       "      <th>count</th>\n",
       "      <td>8.800000e+01</td>\n",
       "      <td>88.000000</td>\n",
       "      <td>88.000000</td>\n",
       "      <td>88.000000</td>\n",
       "      <td>88.000000</td>\n",
       "    </tr>\n",
       "    <tr>\n",
       "      <th>mean</th>\n",
       "      <td>3.039321e+07</td>\n",
       "      <td>188.876773</td>\n",
       "      <td>185.270000</td>\n",
       "      <td>187.345455</td>\n",
       "      <td>187.015455</td>\n",
       "    </tr>\n",
       "    <tr>\n",
       "      <th>std</th>\n",
       "      <td>9.274492e+06</td>\n",
       "      <td>6.886322</td>\n",
       "      <td>6.568706</td>\n",
       "      <td>6.651073</td>\n",
       "      <td>6.900465</td>\n",
       "    </tr>\n",
       "    <tr>\n",
       "      <th>min</th>\n",
       "      <td>1.852660e+07</td>\n",
       "      <td>173.070000</td>\n",
       "      <td>169.500000</td>\n",
       "      <td>172.500000</td>\n",
       "      <td>170.320000</td>\n",
       "    </tr>\n",
       "    <tr>\n",
       "      <th>25%</th>\n",
       "      <td>2.356390e+07</td>\n",
       "      <td>184.100000</td>\n",
       "      <td>182.560000</td>\n",
       "      <td>183.730000</td>\n",
       "      <td>183.900000</td>\n",
       "    </tr>\n",
       "    <tr>\n",
       "      <th>50%</th>\n",
       "      <td>2.885515e+07</td>\n",
       "      <td>189.659500</td>\n",
       "      <td>186.235000</td>\n",
       "      <td>188.315000</td>\n",
       "      <td>188.850000</td>\n",
       "    </tr>\n",
       "    <tr>\n",
       "      <th>75%</th>\n",
       "      <td>3.246750e+07</td>\n",
       "      <td>194.460000</td>\n",
       "      <td>189.810000</td>\n",
       "      <td>191.240000</td>\n",
       "      <td>191.640000</td>\n",
       "    </tr>\n",
       "    <tr>\n",
       "      <th>max</th>\n",
       "      <td>5.103420e+07</td>\n",
       "      <td>197.690000</td>\n",
       "      <td>195.930000</td>\n",
       "      <td>197.000000</td>\n",
       "      <td>196.450000</td>\n",
       "    </tr>\n",
       "  </tbody>\n",
       "</table>\n",
       "</div>"
      ],
      "text/plain": [
       "             volume        high         low       close        open\n",
       "count  8.800000e+01   88.000000   88.000000   88.000000   88.000000\n",
       "mean   3.039321e+07  188.876773  185.270000  187.345455  187.015455\n",
       "std    9.274492e+06    6.886322    6.568706    6.651073    6.900465\n",
       "min    1.852660e+07  173.070000  169.500000  172.500000  170.320000\n",
       "25%    2.356390e+07  184.100000  182.560000  183.730000  183.900000\n",
       "50%    2.885515e+07  189.659500  186.235000  188.315000  188.850000\n",
       "75%    3.246750e+07  194.460000  189.810000  191.240000  191.640000\n",
       "max    5.103420e+07  197.690000  195.930000  197.000000  196.450000"
      ]
     },
     "execution_count": 30,
     "metadata": {},
     "output_type": "execute_result"
    }
   ],
   "source": [
    "df.describe()"
   ]
  },
  {
   "cell_type": "markdown",
   "metadata": {},
   "source": [
    "Our data looks good now. We can move forward with some preliminary analysis"
   ]
  },
  {
   "cell_type": "markdown",
   "metadata": {},
   "source": [
    "# Data Analysis"
   ]
  },
  {
   "cell_type": "markdown",
   "metadata": {},
   "source": [
    "Let's take a look at the change in closing stock price over the last 30 days"
   ]
  },
  {
   "cell_type": "code",
   "execution_count": 33,
   "metadata": {},
   "outputs": [
    {
     "data": {
      "text/html": [
       "<div>\n",
       "<style scoped>\n",
       "    .dataframe tbody tr th:only-of-type {\n",
       "        vertical-align: middle;\n",
       "    }\n",
       "\n",
       "    .dataframe tbody tr th {\n",
       "        vertical-align: top;\n",
       "    }\n",
       "\n",
       "    .dataframe thead th {\n",
       "        text-align: right;\n",
       "    }\n",
       "</style>\n",
       "<table border=\"1\" class=\"dataframe\">\n",
       "  <thead>\n",
       "    <tr style=\"text-align: right;\">\n",
       "      <th></th>\n",
       "      <th>volume</th>\n",
       "      <th>symbol</th>\n",
       "      <th>high</th>\n",
       "      <th>tradingDay</th>\n",
       "      <th>low</th>\n",
       "      <th>close</th>\n",
       "      <th>open</th>\n",
       "    </tr>\n",
       "    <tr>\n",
       "      <th>timestamp</th>\n",
       "      <th></th>\n",
       "      <th></th>\n",
       "      <th></th>\n",
       "      <th></th>\n",
       "      <th></th>\n",
       "      <th></th>\n",
       "      <th></th>\n",
       "    </tr>\n",
       "  </thead>\n",
       "  <tbody>\n",
       "    <tr>\n",
       "      <th>2019-03-07 05:00:00+00:00</th>\n",
       "      <td>24796300</td>\n",
       "      <td>AAPL</td>\n",
       "      <td>174.44</td>\n",
       "      <td>2019-03-07</td>\n",
       "      <td>172.02</td>\n",
       "      <td>172.50</td>\n",
       "      <td>173.87</td>\n",
       "    </tr>\n",
       "    <tr>\n",
       "      <th>2019-03-08 05:00:00+00:00</th>\n",
       "      <td>23999300</td>\n",
       "      <td>AAPL</td>\n",
       "      <td>173.07</td>\n",
       "      <td>2019-03-08</td>\n",
       "      <td>169.50</td>\n",
       "      <td>172.91</td>\n",
       "      <td>170.32</td>\n",
       "    </tr>\n",
       "    <tr>\n",
       "      <th>2019-03-11 04:00:00+00:00</th>\n",
       "      <td>32011000</td>\n",
       "      <td>AAPL</td>\n",
       "      <td>179.12</td>\n",
       "      <td>2019-03-11</td>\n",
       "      <td>175.35</td>\n",
       "      <td>178.90</td>\n",
       "      <td>175.49</td>\n",
       "    </tr>\n",
       "    <tr>\n",
       "      <th>2019-03-12 04:00:00+00:00</th>\n",
       "      <td>32467500</td>\n",
       "      <td>AAPL</td>\n",
       "      <td>182.67</td>\n",
       "      <td>2019-03-12</td>\n",
       "      <td>179.37</td>\n",
       "      <td>180.91</td>\n",
       "      <td>180.00</td>\n",
       "    </tr>\n",
       "    <tr>\n",
       "      <th>2019-03-13 04:00:00+00:00</th>\n",
       "      <td>31032500</td>\n",
       "      <td>AAPL</td>\n",
       "      <td>183.30</td>\n",
       "      <td>2019-03-13</td>\n",
       "      <td>180.92</td>\n",
       "      <td>181.71</td>\n",
       "      <td>182.25</td>\n",
       "    </tr>\n",
       "  </tbody>\n",
       "</table>\n",
       "</div>"
      ],
      "text/plain": [
       "                             volume symbol    high  tradingDay     low  \\\n",
       "timestamp                                                                \n",
       "2019-03-07 05:00:00+00:00  24796300   AAPL  174.44  2019-03-07  172.02   \n",
       "2019-03-08 05:00:00+00:00  23999300   AAPL  173.07  2019-03-08  169.50   \n",
       "2019-03-11 04:00:00+00:00  32011000   AAPL  179.12  2019-03-11  175.35   \n",
       "2019-03-12 04:00:00+00:00  32467500   AAPL  182.67  2019-03-12  179.37   \n",
       "2019-03-13 04:00:00+00:00  31032500   AAPL  183.30  2019-03-13  180.92   \n",
       "\n",
       "                            close    open  \n",
       "timestamp                                  \n",
       "2019-03-07 05:00:00+00:00  172.50  173.87  \n",
       "2019-03-08 05:00:00+00:00  172.91  170.32  \n",
       "2019-03-11 04:00:00+00:00  178.90  175.49  \n",
       "2019-03-12 04:00:00+00:00  180.91  180.00  \n",
       "2019-03-13 04:00:00+00:00  181.71  182.25  "
      ]
     },
     "execution_count": 33,
     "metadata": {},
     "output_type": "execute_result"
    }
   ],
   "source": [
    "import matplotlib.pyplot as plt\n",
    "df[\"timestamp\"] = pd.to_datetime(df[\"timestamp\"])\n",
    "df.index = df[\"timestamp\"]\n",
    "del df[\"timestamp\"]\n",
    "df.head()"
   ]
  },
  {
   "cell_type": "markdown",
   "metadata": {},
   "source": [
    "Let's view all stock data that occurred on March 11, 2019"
   ]
  },
  {
   "cell_type": "code",
   "execution_count": 36,
   "metadata": {},
   "outputs": [
    {
     "data": {
      "text/html": [
       "<div>\n",
       "<style scoped>\n",
       "    .dataframe tbody tr th:only-of-type {\n",
       "        vertical-align: middle;\n",
       "    }\n",
       "\n",
       "    .dataframe tbody tr th {\n",
       "        vertical-align: top;\n",
       "    }\n",
       "\n",
       "    .dataframe thead th {\n",
       "        text-align: right;\n",
       "    }\n",
       "</style>\n",
       "<table border=\"1\" class=\"dataframe\">\n",
       "  <thead>\n",
       "    <tr style=\"text-align: right;\">\n",
       "      <th></th>\n",
       "      <th>volume</th>\n",
       "      <th>symbol</th>\n",
       "      <th>high</th>\n",
       "      <th>tradingDay</th>\n",
       "      <th>low</th>\n",
       "      <th>close</th>\n",
       "      <th>open</th>\n",
       "    </tr>\n",
       "    <tr>\n",
       "      <th>timestamp</th>\n",
       "      <th></th>\n",
       "      <th></th>\n",
       "      <th></th>\n",
       "      <th></th>\n",
       "      <th></th>\n",
       "      <th></th>\n",
       "      <th></th>\n",
       "    </tr>\n",
       "  </thead>\n",
       "  <tbody>\n",
       "    <tr>\n",
       "      <th>2019-03-11 04:00:00+00:00</th>\n",
       "      <td>32011000</td>\n",
       "      <td>AAPL</td>\n",
       "      <td>179.12</td>\n",
       "      <td>2019-03-11</td>\n",
       "      <td>175.35</td>\n",
       "      <td>178.9</td>\n",
       "      <td>175.49</td>\n",
       "    </tr>\n",
       "    <tr>\n",
       "      <th>2019-03-11 04:00:00+00:00</th>\n",
       "      <td>32011000</td>\n",
       "      <td>AAPL</td>\n",
       "      <td>179.12</td>\n",
       "      <td>2019-03-11</td>\n",
       "      <td>175.35</td>\n",
       "      <td>178.9</td>\n",
       "      <td>175.49</td>\n",
       "    </tr>\n",
       "    <tr>\n",
       "      <th>2019-03-11 04:00:00+00:00</th>\n",
       "      <td>32011000</td>\n",
       "      <td>AAPL</td>\n",
       "      <td>179.12</td>\n",
       "      <td>2019-03-11</td>\n",
       "      <td>175.35</td>\n",
       "      <td>178.9</td>\n",
       "      <td>175.49</td>\n",
       "    </tr>\n",
       "    <tr>\n",
       "      <th>2019-03-11 04:00:00+00:00</th>\n",
       "      <td>32011000</td>\n",
       "      <td>AAPL</td>\n",
       "      <td>179.12</td>\n",
       "      <td>2019-03-11</td>\n",
       "      <td>175.35</td>\n",
       "      <td>178.9</td>\n",
       "      <td>175.49</td>\n",
       "    </tr>\n",
       "  </tbody>\n",
       "</table>\n",
       "</div>"
      ],
      "text/plain": [
       "                             volume symbol    high  tradingDay     low  close  \\\n",
       "timestamp                                                                       \n",
       "2019-03-11 04:00:00+00:00  32011000   AAPL  179.12  2019-03-11  175.35  178.9   \n",
       "2019-03-11 04:00:00+00:00  32011000   AAPL  179.12  2019-03-11  175.35  178.9   \n",
       "2019-03-11 04:00:00+00:00  32011000   AAPL  179.12  2019-03-11  175.35  178.9   \n",
       "2019-03-11 04:00:00+00:00  32011000   AAPL  179.12  2019-03-11  175.35  178.9   \n",
       "\n",
       "                             open  \n",
       "timestamp                          \n",
       "2019-03-11 04:00:00+00:00  175.49  \n",
       "2019-03-11 04:00:00+00:00  175.49  \n",
       "2019-03-11 04:00:00+00:00  175.49  \n",
       "2019-03-11 04:00:00+00:00  175.49  "
      ]
     },
     "execution_count": 36,
     "metadata": {},
     "output_type": "execute_result"
    }
   ],
   "source": [
    "df[\"2019-03-11\"]"
   ]
  },
  {
   "cell_type": "code",
   "execution_count": 41,
   "metadata": {},
   "outputs": [
    {
     "data": {
      "image/png": "[encoded data removed]",
      "text/plain": [
       "<Figure size 432x288 with 1 Axes>"
      ]
     },
     "metadata": {
      "needs_background": "light"
     },
     "output_type": "display_data"
    }
   ],
   "source": [
    "df.plot(y=['close','high','low','open'], use_index=True)\n",
    "plt.show()"
   ]
  },
  {
   "cell_type": "markdown",
   "metadata": {},
   "source": [
    "It looks like over the past 30 days, Apple's stock has overall increased. "
   ]
  },
  {
   "cell_type": "code",
   "execution_count": null,
   "metadata": {},
   "outputs": [],
   "source": []
  }
 ],
 "metadata": {
  "kernelspec": {
   "display_name": "Python 2",
   "language": "python",
   "name": "python2"
  },
  "language_info": {
   "codemirror_mode": {
    "name": "ipython",
    "version": 2
   },
   "file_extension": ".py",
   "mimetype": "text/x-python",
   "name": "python",
   "nbconvert_exporter": "python",
   "pygments_lexer": "ipython2",
   "version": "2.7.16"
  }
 },
 "nbformat": 4,
 "nbformat_minor": 1
}
