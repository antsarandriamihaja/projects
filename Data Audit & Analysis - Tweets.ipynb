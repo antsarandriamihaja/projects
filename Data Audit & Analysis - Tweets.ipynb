{
 "cells": [
  {
   "cell_type": "markdown",
   "metadata": {},
   "source": [
    "## Data Audit - Tweets\n",
    "\n",
    "@Apple hasn't posted any tweet yet, so we are going to look at tweets from @realDonaldTrump in this notebook. \n",
    "Additionally, there hasn't been any mention of @Apple in other user's tweets."
   ]
  },
  {
   "cell_type": "markdown",
   "metadata": {},
   "source": [
    "Let's get the data from BigQuery, since it's not that big."
   ]
  },
  {
   "cell_type": "code",
   "execution_count": 4,
   "metadata": {},
   "outputs": [
    {
     "name": "stdout",
     "output_type": "stream",
     "text": [
      "There are 400 rows.\n"
     ]
    },
    {
     "data": {
      "text/html": [
       "<div>\n",
       "<style scoped>\n",
       "    .dataframe tbody tr th:only-of-type {\n",
       "        vertical-align: middle;\n",
       "    }\n",
       "\n",
       "    .dataframe tbody tr th {\n",
       "        vertical-align: top;\n",
       "    }\n",
       "\n",
       "    .dataframe thead th {\n",
       "        text-align: right;\n",
       "    }\n",
       "</style>\n",
       "<table border=\"1\" class=\"dataframe\">\n",
       "  <thead>\n",
       "    <tr style=\"text-align: right;\">\n",
       "      <th></th>\n",
       "      <th>name</th>\n",
       "      <th>location</th>\n",
       "      <th>retweet_count</th>\n",
       "      <th>hashtags</th>\n",
       "      <th>created_at</th>\n",
       "      <th>text</th>\n",
       "      <th>screen_name</th>\n",
       "    </tr>\n",
       "  </thead>\n",
       "  <tbody>\n",
       "    <tr>\n",
       "      <th>0</th>\n",
       "      <td>Donald J. Trump</td>\n",
       "      <td>Washington, DC</td>\n",
       "      <td>10273</td>\n",
       "      <td>[]</td>\n",
       "      <td>Sun Apr 07 22:02:04 +0000 2019</td>\n",
       "      <td>....I am pleased to announce that Kevin McAlee...</td>\n",
       "      <td>realDonaldTrump</td>\n",
       "    </tr>\n",
       "    <tr>\n",
       "      <th>1</th>\n",
       "      <td>Donald J. Trump</td>\n",
       "      <td>Washington, DC</td>\n",
       "      <td>10516</td>\n",
       "      <td>[]</td>\n",
       "      <td>Sun Apr 07 22:02:03 +0000 2019</td>\n",
       "      <td>Secretary of Homeland Security Kirstjen Nielse...</td>\n",
       "      <td>realDonaldTrump</td>\n",
       "    </tr>\n",
       "    <tr>\n",
       "      <th>2</th>\n",
       "      <td>Donald J. Trump</td>\n",
       "      <td>Washington, DC</td>\n",
       "      <td>7844</td>\n",
       "      <td>[]</td>\n",
       "      <td>Sun Apr 07 19:54:53 +0000 2019</td>\n",
       "      <td>RT @mike_pence: .@RealDonaldTrump is doing his...</td>\n",
       "      <td>realDonaldTrump</td>\n",
       "    </tr>\n",
       "    <tr>\n",
       "      <th>3</th>\n",
       "      <td>Donald J. Trump</td>\n",
       "      <td>Washington, DC</td>\n",
       "      <td>11164</td>\n",
       "      <td>[]</td>\n",
       "      <td>Sun Apr 07 19:53:56 +0000 2019</td>\n",
       "      <td>RT @mike_pence: The last 2 years, under @RealD...</td>\n",
       "      <td>realDonaldTrump</td>\n",
       "    </tr>\n",
       "    <tr>\n",
       "      <th>4</th>\n",
       "      <td>Donald J. Trump</td>\n",
       "      <td>Washington, DC</td>\n",
       "      <td>14937</td>\n",
       "      <td>[]</td>\n",
       "      <td>Sun Apr 07 19:50:54 +0000 2019</td>\n",
       "      <td>Pleased to report that the American tourist an...</td>\n",
       "      <td>realDonaldTrump</td>\n",
       "    </tr>\n",
       "  </tbody>\n",
       "</table>\n",
       "</div>"
      ],
      "text/plain": [
       "              name        location  retweet_count hashtags  \\\n",
       "0  Donald J. Trump  Washington, DC          10273       []   \n",
       "1  Donald J. Trump  Washington, DC          10516       []   \n",
       "2  Donald J. Trump  Washington, DC           7844       []   \n",
       "3  Donald J. Trump  Washington, DC          11164       []   \n",
       "4  Donald J. Trump  Washington, DC          14937       []   \n",
       "\n",
       "                       created_at  \\\n",
       "0  Sun Apr 07 22:02:04 +0000 2019   \n",
       "1  Sun Apr 07 22:02:03 +0000 2019   \n",
       "2  Sun Apr 07 19:54:53 +0000 2019   \n",
       "3  Sun Apr 07 19:53:56 +0000 2019   \n",
       "4  Sun Apr 07 19:50:54 +0000 2019   \n",
       "\n",
       "                                                text      screen_name  \n",
       "0  ....I am pleased to announce that Kevin McAlee...  realDonaldTrump  \n",
       "1  Secretary of Homeland Security Kirstjen Nielse...  realDonaldTrump  \n",
       "2  RT @mike_pence: .@RealDonaldTrump is doing his...  realDonaldTrump  \n",
       "3  RT @mike_pence: The last 2 years, under @RealD...  realDonaldTrump  \n",
       "4  Pleased to report that the American tourist an...  realDonaldTrump  "
      ]
     },
     "execution_count": 4,
     "metadata": {},
     "output_type": "execute_result"
    }
   ],
   "source": [
    "import google.cloud.bigquery as bq\n",
    "import pandas as pd\n",
    "\n",
    "client = bq.Client()\n",
    "sql = \"\"\"\n",
    "    SELECT * FROM `test-project-datalab-225214.AAPL.tweets_realdonaldtrump`\n",
    "\"\"\"\n",
    "tweets_data = client.query(sql).to_dataframe()\n",
    "\n",
    "print(\"There are {} rows.\".format(len(tweets_data)))\n",
    "tweets_data.head()"
   ]
  },
  {
   "cell_type": "code",
   "execution_count": 98,
   "metadata": {},
   "outputs": [
    {
     "data": {
      "text/html": [
       "<div>\n",
       "<style scoped>\n",
       "    .dataframe tbody tr th:only-of-type {\n",
       "        vertical-align: middle;\n",
       "    }\n",
       "\n",
       "    .dataframe tbody tr th {\n",
       "        vertical-align: top;\n",
       "    }\n",
       "\n",
       "    .dataframe thead th {\n",
       "        text-align: right;\n",
       "    }\n",
       "</style>\n",
       "<table border=\"1\" class=\"dataframe\">\n",
       "  <thead>\n",
       "    <tr style=\"text-align: right;\">\n",
       "      <th></th>\n",
       "      <th>name</th>\n",
       "      <th>location</th>\n",
       "      <th>retweet_count</th>\n",
       "      <th>hashtags</th>\n",
       "      <th>text</th>\n",
       "      <th>screen_name</th>\n",
       "    </tr>\n",
       "    <tr>\n",
       "      <th>created_at</th>\n",
       "      <th></th>\n",
       "      <th></th>\n",
       "      <th></th>\n",
       "      <th></th>\n",
       "      <th></th>\n",
       "      <th></th>\n",
       "    </tr>\n",
       "  </thead>\n",
       "  <tbody>\n",
       "    <tr>\n",
       "      <th>2019-04-07 22:02:04+00:00</th>\n",
       "      <td>Donald J. Trump</td>\n",
       "      <td>Washington, DC</td>\n",
       "      <td>10273</td>\n",
       "      <td>[]</td>\n",
       "      <td>....I am pleased to announce that Kevin McAlee...</td>\n",
       "      <td>realDonaldTrump</td>\n",
       "    </tr>\n",
       "    <tr>\n",
       "      <th>2019-04-07 22:02:03+00:00</th>\n",
       "      <td>Donald J. Trump</td>\n",
       "      <td>Washington, DC</td>\n",
       "      <td>10516</td>\n",
       "      <td>[]</td>\n",
       "      <td>Secretary of Homeland Security Kirstjen Nielse...</td>\n",
       "      <td>realDonaldTrump</td>\n",
       "    </tr>\n",
       "    <tr>\n",
       "      <th>2019-04-07 19:54:53+00:00</th>\n",
       "      <td>Donald J. Trump</td>\n",
       "      <td>Washington, DC</td>\n",
       "      <td>7844</td>\n",
       "      <td>[]</td>\n",
       "      <td>RT @mike_pence: .@RealDonaldTrump is doing his...</td>\n",
       "      <td>realDonaldTrump</td>\n",
       "    </tr>\n",
       "    <tr>\n",
       "      <th>2019-04-07 19:53:56+00:00</th>\n",
       "      <td>Donald J. Trump</td>\n",
       "      <td>Washington, DC</td>\n",
       "      <td>11164</td>\n",
       "      <td>[]</td>\n",
       "      <td>RT @mike_pence: The last 2 years, under @RealD...</td>\n",
       "      <td>realDonaldTrump</td>\n",
       "    </tr>\n",
       "    <tr>\n",
       "      <th>2019-04-07 19:50:54+00:00</th>\n",
       "      <td>Donald J. Trump</td>\n",
       "      <td>Washington, DC</td>\n",
       "      <td>14937</td>\n",
       "      <td>[]</td>\n",
       "      <td>Pleased to report that the American tourist an...</td>\n",
       "      <td>realDonaldTrump</td>\n",
       "    </tr>\n",
       "  </tbody>\n",
       "</table>\n",
       "</div>"
      ],
      "text/plain": [
       "                                      name        location  retweet_count  \\\n",
       "created_at                                                                  \n",
       "2019-04-07 22:02:04+00:00  Donald J. Trump  Washington, DC          10273   \n",
       "2019-04-07 22:02:03+00:00  Donald J. Trump  Washington, DC          10516   \n",
       "2019-04-07 19:54:53+00:00  Donald J. Trump  Washington, DC           7844   \n",
       "2019-04-07 19:53:56+00:00  Donald J. Trump  Washington, DC          11164   \n",
       "2019-04-07 19:50:54+00:00  Donald J. Trump  Washington, DC          14937   \n",
       "\n",
       "                          hashtags  \\\n",
       "created_at                           \n",
       "2019-04-07 22:02:04+00:00       []   \n",
       "2019-04-07 22:02:03+00:00       []   \n",
       "2019-04-07 19:54:53+00:00       []   \n",
       "2019-04-07 19:53:56+00:00       []   \n",
       "2019-04-07 19:50:54+00:00       []   \n",
       "\n",
       "                                                                        text  \\\n",
       "created_at                                                                     \n",
       "2019-04-07 22:02:04+00:00  ....I am pleased to announce that Kevin McAlee...   \n",
       "2019-04-07 22:02:03+00:00  Secretary of Homeland Security Kirstjen Nielse...   \n",
       "2019-04-07 19:54:53+00:00  RT @mike_pence: .@RealDonaldTrump is doing his...   \n",
       "2019-04-07 19:53:56+00:00  RT @mike_pence: The last 2 years, under @RealD...   \n",
       "2019-04-07 19:50:54+00:00  Pleased to report that the American tourist an...   \n",
       "\n",
       "                               screen_name  \n",
       "created_at                                  \n",
       "2019-04-07 22:02:04+00:00  realDonaldTrump  \n",
       "2019-04-07 22:02:03+00:00  realDonaldTrump  \n",
       "2019-04-07 19:54:53+00:00  realDonaldTrump  \n",
       "2019-04-07 19:53:56+00:00  realDonaldTrump  \n",
       "2019-04-07 19:50:54+00:00  realDonaldTrump  "
      ]
     },
     "execution_count": 98,
     "metadata": {},
     "output_type": "execute_result"
    }
   ],
   "source": [
    "df = tweets_data.copy(deep=True)\n",
    "#making sure to use the timestamp as index\n",
    "df[\"created_at\"] = pd.to_datetime(df[\"created_at\"])\n",
    "df.index = df[\"created_at\"]\n",
    "del df[\"created_at\"]\n",
    "df.head()"
   ]
  },
  {
   "cell_type": "markdown",
   "metadata": {},
   "source": [
    "Let's check if there are duplicate entries."
   ]
  },
  {
   "cell_type": "code",
   "execution_count": 99,
   "metadata": {},
   "outputs": [],
   "source": [
    "df = df[~df.index.duplicated(keep='first')]"
   ]
  },
  {
   "cell_type": "code",
   "execution_count": 100,
   "metadata": {},
   "outputs": [
    {
     "data": {
      "text/plain": [
       "201"
      ]
     },
     "execution_count": 100,
     "metadata": {},
     "output_type": "execute_result"
    }
   ],
   "source": [
    "len(df)"
   ]
  },
  {
   "cell_type": "markdown",
   "metadata": {},
   "source": [
    "It looks like we had some duplicated data."
   ]
  },
  {
   "cell_type": "markdown",
   "metadata": {},
   "source": [
    "Let's see if there are tweets were hashtags were used"
   ]
  },
  {
   "cell_type": "code",
   "execution_count": 101,
   "metadata": {},
   "outputs": [],
   "source": [
    "df['num_hashtags'] = df['hashtags'].str.count(\"/\") + 1"
   ]
  },
  {
   "cell_type": "markdown",
   "metadata": {},
   "source": [
    "Let's check all null/None values."
   ]
  },
  {
   "cell_type": "code",
   "execution_count": 102,
   "metadata": {},
   "outputs": [
    {
     "data": {
      "text/plain": [
       "name               0\n",
       "location           0\n",
       "retweet_count      0\n",
       "hashtags           0\n",
       "text               0\n",
       "screen_name        0\n",
       "num_hashtags     201\n",
       "dtype: int64"
      ]
     },
     "execution_count": 102,
     "metadata": {},
     "output_type": "execute_result"
    }
   ],
   "source": [
    "df.isna().sum()"
   ]
  },
  {
   "cell_type": "markdown",
   "metadata": {},
   "source": [
    "It looks like there are no hashtags on Trump's tweets (in our data at least)"
   ]
  },
  {
   "cell_type": "code",
   "execution_count": 103,
   "metadata": {},
   "outputs": [],
   "source": [
    "df = df.drop(['hashtags','num_hashtags'], axis=1)"
   ]
  },
  {
   "cell_type": "markdown",
   "metadata": {},
   "source": [
    "Ok, so now that we got rid of duplicate data and unnecessary fields, let's do some analysis."
   ]
  },
  {
   "cell_type": "markdown",
   "metadata": {},
   "source": [
    "## Data Analysis - Tweets"
   ]
  },
  {
   "cell_type": "markdown",
   "metadata": {},
   "source": [
    "Let's see how many tweets per day is posted by Trump"
   ]
  },
  {
   "cell_type": "code",
   "execution_count": 54,
   "metadata": {},
   "outputs": [
    {
     "data": {
      "image/png": "[encoded data removed]",
      "text/plain": [
       "<Figure size 432x288 with 1 Axes>"
      ]
     },
     "metadata": {
      "needs_background": "light"
     },
     "output_type": "display_data"
    }
   ],
   "source": [
    "import matplotlib.pyplot as plt\n",
    "daily_data = df.groupby(df.index.floor('d')).size().reset_index(name='count')\n",
    "daily_data.plot(y='count', x='created_at')\n",
    "plt.ylabel('Number of tweets')\n",
    "plt.title('Tweets vs. Time')\n",
    "plt.show()"
   ]
  },
  {
   "cell_type": "markdown",
   "metadata": {},
   "source": [
    "There doesn't appear to be a pattern in the number of tweets that are posted over time."
   ]
  },
  {
   "cell_type": "markdown",
   "metadata": {},
   "source": [
    "Let's see if there is the day of the week has any relevance to how many tweets are posted."
   ]
  },
  {
   "cell_type": "code",
   "execution_count": 85,
   "metadata": {},
   "outputs": [
    {
     "data": {
      "text/html": [
       "<div>\n",
       "<style scoped>\n",
       "    .dataframe tbody tr th:only-of-type {\n",
       "        vertical-align: middle;\n",
       "    }\n",
       "\n",
       "    .dataframe tbody tr th {\n",
       "        vertical-align: top;\n",
       "    }\n",
       "\n",
       "    .dataframe thead th {\n",
       "        text-align: right;\n",
       "    }\n",
       "</style>\n",
       "<table border=\"1\" class=\"dataframe\">\n",
       "  <thead>\n",
       "    <tr style=\"text-align: right;\">\n",
       "      <th></th>\n",
       "      <th>name</th>\n",
       "      <th>location</th>\n",
       "      <th>retweet_count</th>\n",
       "      <th>text</th>\n",
       "      <th>screen_name</th>\n",
       "      <th>day_of_week</th>\n",
       "    </tr>\n",
       "    <tr>\n",
       "      <th>created_at</th>\n",
       "      <th></th>\n",
       "      <th></th>\n",
       "      <th></th>\n",
       "      <th></th>\n",
       "      <th></th>\n",
       "      <th></th>\n",
       "    </tr>\n",
       "  </thead>\n",
       "  <tbody>\n",
       "    <tr>\n",
       "      <th>2019-04-07 22:02:04+00:00</th>\n",
       "      <td>Donald J. Trump</td>\n",
       "      <td>Washington, DC</td>\n",
       "      <td>10273</td>\n",
       "      <td>....I am pleased to announce that Kevin McAlee...</td>\n",
       "      <td>realDonaldTrump</td>\n",
       "      <td>Sunday</td>\n",
       "    </tr>\n",
       "    <tr>\n",
       "      <th>2019-04-07 22:02:03+00:00</th>\n",
       "      <td>Donald J. Trump</td>\n",
       "      <td>Washington, DC</td>\n",
       "      <td>10516</td>\n",
       "      <td>Secretary of Homeland Security Kirstjen Nielse...</td>\n",
       "      <td>realDonaldTrump</td>\n",
       "      <td>Sunday</td>\n",
       "    </tr>\n",
       "    <tr>\n",
       "      <th>2019-04-07 19:54:53+00:00</th>\n",
       "      <td>Donald J. Trump</td>\n",
       "      <td>Washington, DC</td>\n",
       "      <td>7844</td>\n",
       "      <td>RT @mike_pence: .@RealDonaldTrump is doing his...</td>\n",
       "      <td>realDonaldTrump</td>\n",
       "      <td>Sunday</td>\n",
       "    </tr>\n",
       "    <tr>\n",
       "      <th>2019-04-07 19:53:56+00:00</th>\n",
       "      <td>Donald J. Trump</td>\n",
       "      <td>Washington, DC</td>\n",
       "      <td>11164</td>\n",
       "      <td>RT @mike_pence: The last 2 years, under @RealD...</td>\n",
       "      <td>realDonaldTrump</td>\n",
       "      <td>Sunday</td>\n",
       "    </tr>\n",
       "    <tr>\n",
       "      <th>2019-04-07 19:50:54+00:00</th>\n",
       "      <td>Donald J. Trump</td>\n",
       "      <td>Washington, DC</td>\n",
       "      <td>14937</td>\n",
       "      <td>Pleased to report that the American tourist an...</td>\n",
       "      <td>realDonaldTrump</td>\n",
       "      <td>Sunday</td>\n",
       "    </tr>\n",
       "  </tbody>\n",
       "</table>\n",
       "</div>"
      ],
      "text/plain": [
       "                                      name        location  retweet_count  \\\n",
       "created_at                                                                  \n",
       "2019-04-07 22:02:04+00:00  Donald J. Trump  Washington, DC          10273   \n",
       "2019-04-07 22:02:03+00:00  Donald J. Trump  Washington, DC          10516   \n",
       "2019-04-07 19:54:53+00:00  Donald J. Trump  Washington, DC           7844   \n",
       "2019-04-07 19:53:56+00:00  Donald J. Trump  Washington, DC          11164   \n",
       "2019-04-07 19:50:54+00:00  Donald J. Trump  Washington, DC          14937   \n",
       "\n",
       "                                                                        text  \\\n",
       "created_at                                                                     \n",
       "2019-04-07 22:02:04+00:00  ....I am pleased to announce that Kevin McAlee...   \n",
       "2019-04-07 22:02:03+00:00  Secretary of Homeland Security Kirstjen Nielse...   \n",
       "2019-04-07 19:54:53+00:00  RT @mike_pence: .@RealDonaldTrump is doing his...   \n",
       "2019-04-07 19:53:56+00:00  RT @mike_pence: The last 2 years, under @RealD...   \n",
       "2019-04-07 19:50:54+00:00  Pleased to report that the American tourist an...   \n",
       "\n",
       "                               screen_name day_of_week  \n",
       "created_at                                              \n",
       "2019-04-07 22:02:04+00:00  realDonaldTrump      Sunday  \n",
       "2019-04-07 22:02:03+00:00  realDonaldTrump      Sunday  \n",
       "2019-04-07 19:54:53+00:00  realDonaldTrump      Sunday  \n",
       "2019-04-07 19:53:56+00:00  realDonaldTrump      Sunday  \n",
       "2019-04-07 19:50:54+00:00  realDonaldTrump      Sunday  "
      ]
     },
     "execution_count": 85,
     "metadata": {},
     "output_type": "execute_result"
    }
   ],
   "source": [
    "weekday_df = df.copy(deep=True)\n",
    "weekday_df['day_of_week'] = df.index.day_name()\n",
    "weekday_df.head()"
   ]
  },
  {
   "cell_type": "code",
   "execution_count": 86,
   "metadata": {},
   "outputs": [
    {
     "data": {
      "text/html": [
       "<div>\n",
       "<style scoped>\n",
       "    .dataframe tbody tr th:only-of-type {\n",
       "        vertical-align: middle;\n",
       "    }\n",
       "\n",
       "    .dataframe tbody tr th {\n",
       "        vertical-align: top;\n",
       "    }\n",
       "\n",
       "    .dataframe thead th {\n",
       "        text-align: right;\n",
       "    }\n",
       "</style>\n",
       "<table border=\"1\" class=\"dataframe\">\n",
       "  <thead>\n",
       "    <tr style=\"text-align: right;\">\n",
       "      <th></th>\n",
       "      <th>day_of_week</th>\n",
       "      <th>count</th>\n",
       "    </tr>\n",
       "  </thead>\n",
       "  <tbody>\n",
       "    <tr>\n",
       "      <th>0</th>\n",
       "      <td>Friday</td>\n",
       "      <td>48</td>\n",
       "    </tr>\n",
       "    <tr>\n",
       "      <th>1</th>\n",
       "      <td>Monday</td>\n",
       "      <td>18</td>\n",
       "    </tr>\n",
       "    <tr>\n",
       "      <th>2</th>\n",
       "      <td>Saturday</td>\n",
       "      <td>25</td>\n",
       "    </tr>\n",
       "    <tr>\n",
       "      <th>3</th>\n",
       "      <td>Sunday</td>\n",
       "      <td>12</td>\n",
       "    </tr>\n",
       "    <tr>\n",
       "      <th>4</th>\n",
       "      <td>Thursday</td>\n",
       "      <td>30</td>\n",
       "    </tr>\n",
       "    <tr>\n",
       "      <th>5</th>\n",
       "      <td>Tuesday</td>\n",
       "      <td>43</td>\n",
       "    </tr>\n",
       "    <tr>\n",
       "      <th>6</th>\n",
       "      <td>Wednesday</td>\n",
       "      <td>25</td>\n",
       "    </tr>\n",
       "  </tbody>\n",
       "</table>\n",
       "</div>"
      ],
      "text/plain": [
       "  day_of_week  count\n",
       "0      Friday     48\n",
       "1      Monday     18\n",
       "2    Saturday     25\n",
       "3      Sunday     12\n",
       "4    Thursday     30\n",
       "5     Tuesday     43\n",
       "6   Wednesday     25"
      ]
     },
     "execution_count": 86,
     "metadata": {},
     "output_type": "execute_result"
    }
   ],
   "source": [
    "weekday = weekday_df.groupby(weekday_df.day_of_week).size().reset_index(name='count')\n",
    "weekday"
   ]
  },
  {
   "cell_type": "code",
   "execution_count": 88,
   "metadata": {},
   "outputs": [
    {
     "data": {
      "image/png": "[encoded data removed]",
      "text/plain": [
       "<Figure size 432x288 with 1 Axes>"
      ]
     },
     "metadata": {
      "needs_background": "light"
     },
     "output_type": "display_data"
    }
   ],
   "source": [
    "cats = ['Monday', 'Tuesday', 'Wednesday', 'Thursday', 'Friday', 'Saturday', 'Sunday']\n",
    "weekday['day_of_week'] = pd.Categorical(weekday['day_of_week'], categories=cats, ordered=True)\n",
    "weekday = weekday.sort_values('day_of_week')\n",
    "weekday.plot(y = \"count\", x=\"day_of_week\",kind='bar')\n",
    "plt.title('Number of tweets vs. Day of Week')\n",
    "plt.ylabel('Tweet count')\n",
    "plt.show()\n"
   ]
  },
  {
   "cell_type": "markdown",
   "metadata": {},
   "source": [
    "There doesn't seem to be a strong relationship between day of week and the number of tweets that Trump has posted."
   ]
  },
  {
   "cell_type": "markdown",
   "metadata": {},
   "source": [
    "Let's take a look at the location from where the tweets were posted."
   ]
  },
  {
   "cell_type": "code",
   "execution_count": 89,
   "metadata": {},
   "outputs": [
    {
     "data": {
      "text/plain": [
       "1"
      ]
     },
     "execution_count": 89,
     "metadata": {},
     "output_type": "execute_result"
    }
   ],
   "source": [
    "df['location'].nunique()"
   ]
  },
  {
   "cell_type": "markdown",
   "metadata": {},
   "source": [
    "It seems that Trump has only sent tweets from one location (Washington, DC)"
   ]
  },
  {
   "cell_type": "markdown",
   "metadata": {},
   "source": [
    "Let's now have a look at the number of retweets."
   ]
  },
  {
   "cell_type": "code",
   "execution_count": 93,
   "metadata": {},
   "outputs": [
    {
     "name": "stderr",
     "output_type": "stream",
     "text": [
      "/Users/antsar/.conda/envs/MoovAI/lib/python2.7/site-packages/pandas/core/arrays/datetimes.py:1172: UserWarning: Converting to PeriodArray/Index representation will drop timezone information.\n",
      "  \"will drop timezone information.\", UserWarning)\n"
     ]
    },
    {
     "data": {
      "image/png": "[encoded data removed]",
      "text/plain": [
       "<Figure size 432x288 with 1 Axes>"
      ]
     },
     "metadata": {
      "needs_background": "light"
     },
     "output_type": "display_data"
    }
   ],
   "source": [
    "retweets = df.groupby(pd.Grouper(freq='D')).mean()\n",
    "retweets.plot()\n",
    "plt.title('Retweet count over time')\n",
    "plt.ylabel('Avg. Retweet Count')\n",
    "plt.show()"
   ]
  },
  {
   "cell_type": "markdown",
   "metadata": {},
   "source": [
    "It looks like there was no retweet for March 23rd, and a lot of retweets for March 24th. Let's look at the tweets sent on March 24th."
   ]
  },
  {
   "cell_type": "code",
   "execution_count": 106,
   "metadata": {},
   "outputs": [
    {
     "data": {
      "text/html": [
       "<div>\n",
       "<style scoped>\n",
       "    .dataframe tbody tr th:only-of-type {\n",
       "        vertical-align: middle;\n",
       "    }\n",
       "\n",
       "    .dataframe tbody tr th {\n",
       "        vertical-align: top;\n",
       "    }\n",
       "\n",
       "    .dataframe thead th {\n",
       "        text-align: right;\n",
       "    }\n",
       "</style>\n",
       "<table border=\"1\" class=\"dataframe\">\n",
       "  <thead>\n",
       "    <tr style=\"text-align: right;\">\n",
       "      <th></th>\n",
       "      <th>name</th>\n",
       "      <th>location</th>\n",
       "      <th>retweet_count</th>\n",
       "      <th>text</th>\n",
       "      <th>screen_name</th>\n",
       "    </tr>\n",
       "    <tr>\n",
       "      <th>created_at</th>\n",
       "      <th></th>\n",
       "      <th></th>\n",
       "      <th></th>\n",
       "      <th></th>\n",
       "      <th></th>\n",
       "    </tr>\n",
       "  </thead>\n",
       "  <tbody>\n",
       "    <tr>\n",
       "      <th>2019-03-24 20:42:19+00:00</th>\n",
       "      <td>Donald J. Trump</td>\n",
       "      <td>Washington, DC</td>\n",
       "      <td>95958</td>\n",
       "      <td>No Collusion, No Obstruction, Complete and Tot...</td>\n",
       "      <td>realDonaldTrump</td>\n",
       "    </tr>\n",
       "    <tr>\n",
       "      <th>2019-03-24 12:02:59+00:00</th>\n",
       "      <td>Donald J. Trump</td>\n",
       "      <td>Washington, DC</td>\n",
       "      <td>63336</td>\n",
       "      <td>MAKE AMERICA GREAT AGAIN!</td>\n",
       "      <td>realDonaldTrump</td>\n",
       "    </tr>\n",
       "    <tr>\n",
       "      <th>2019-03-24 12:01:44+00:00</th>\n",
       "      <td>Donald J. Trump</td>\n",
       "      <td>Washington, DC</td>\n",
       "      <td>77555</td>\n",
       "      <td>Good Morning, Have A Great Day!</td>\n",
       "      <td>realDonaldTrump</td>\n",
       "    </tr>\n",
       "  </tbody>\n",
       "</table>\n",
       "</div>"
      ],
      "text/plain": [
       "                                      name        location  retweet_count  \\\n",
       "created_at                                                                  \n",
       "2019-03-24 20:42:19+00:00  Donald J. Trump  Washington, DC          95958   \n",
       "2019-03-24 12:02:59+00:00  Donald J. Trump  Washington, DC          63336   \n",
       "2019-03-24 12:01:44+00:00  Donald J. Trump  Washington, DC          77555   \n",
       "\n",
       "                                                                        text  \\\n",
       "created_at                                                                     \n",
       "2019-03-24 20:42:19+00:00  No Collusion, No Obstruction, Complete and Tot...   \n",
       "2019-03-24 12:02:59+00:00                          MAKE AMERICA GREAT AGAIN!   \n",
       "2019-03-24 12:01:44+00:00                    Good Morning, Have A Great Day!   \n",
       "\n",
       "                               screen_name  \n",
       "created_at                                  \n",
       "2019-03-24 20:42:19+00:00  realDonaldTrump  \n",
       "2019-03-24 12:02:59+00:00  realDonaldTrump  \n",
       "2019-03-24 12:01:44+00:00  realDonaldTrump  "
      ]
     },
     "execution_count": 106,
     "metadata": {},
     "output_type": "execute_result"
    }
   ],
   "source": [
    "df['2019-03-24']"
   ]
  },
  {
   "cell_type": "markdown",
   "metadata": {},
   "source": [
    "It looks like the retweets were most likely related to the outcome of the Mueller report regarding Trumps' collusion with Russia during the 2016 elections."
   ]
  },
  {
   "cell_type": "code",
   "execution_count": 107,
   "metadata": {},
   "outputs": [
    {
     "data": {
      "text/html": [
       "<div>\n",
       "<style scoped>\n",
       "    .dataframe tbody tr th:only-of-type {\n",
       "        vertical-align: middle;\n",
       "    }\n",
       "\n",
       "    .dataframe tbody tr th {\n",
       "        vertical-align: top;\n",
       "    }\n",
       "\n",
       "    .dataframe thead th {\n",
       "        text-align: right;\n",
       "    }\n",
       "</style>\n",
       "<table border=\"1\" class=\"dataframe\">\n",
       "  <thead>\n",
       "    <tr style=\"text-align: right;\">\n",
       "      <th></th>\n",
       "      <th>name</th>\n",
       "      <th>location</th>\n",
       "      <th>retweet_count</th>\n",
       "      <th>text</th>\n",
       "      <th>screen_name</th>\n",
       "    </tr>\n",
       "    <tr>\n",
       "      <th>created_at</th>\n",
       "      <th></th>\n",
       "      <th></th>\n",
       "      <th></th>\n",
       "      <th></th>\n",
       "      <th></th>\n",
       "    </tr>\n",
       "  </thead>\n",
       "  <tbody>\n",
       "    <tr>\n",
       "      <th>2019-04-07 22:02:04+00:00</th>\n",
       "      <td>Donald J. Trump</td>\n",
       "      <td>Washington, DC</td>\n",
       "      <td>10273</td>\n",
       "      <td>....I am pleased to announce that Kevin McAlee...</td>\n",
       "      <td>realDonaldTrump</td>\n",
       "    </tr>\n",
       "    <tr>\n",
       "      <th>2019-04-07 22:02:03+00:00</th>\n",
       "      <td>Donald J. Trump</td>\n",
       "      <td>Washington, DC</td>\n",
       "      <td>10516</td>\n",
       "      <td>Secretary of Homeland Security Kirstjen Nielse...</td>\n",
       "      <td>realDonaldTrump</td>\n",
       "    </tr>\n",
       "    <tr>\n",
       "      <th>2019-04-07 19:54:53+00:00</th>\n",
       "      <td>Donald J. Trump</td>\n",
       "      <td>Washington, DC</td>\n",
       "      <td>7844</td>\n",
       "      <td>RT @mike_pence: .@RealDonaldTrump is doing his...</td>\n",
       "      <td>realDonaldTrump</td>\n",
       "    </tr>\n",
       "    <tr>\n",
       "      <th>2019-04-07 19:53:56+00:00</th>\n",
       "      <td>Donald J. Trump</td>\n",
       "      <td>Washington, DC</td>\n",
       "      <td>11164</td>\n",
       "      <td>RT @mike_pence: The last 2 years, under @RealD...</td>\n",
       "      <td>realDonaldTrump</td>\n",
       "    </tr>\n",
       "    <tr>\n",
       "      <th>2019-04-07 19:50:54+00:00</th>\n",
       "      <td>Donald J. Trump</td>\n",
       "      <td>Washington, DC</td>\n",
       "      <td>14937</td>\n",
       "      <td>Pleased to report that the American tourist an...</td>\n",
       "      <td>realDonaldTrump</td>\n",
       "    </tr>\n",
       "  </tbody>\n",
       "</table>\n",
       "</div>"
      ],
      "text/plain": [
       "                                      name        location  retweet_count  \\\n",
       "created_at                                                                  \n",
       "2019-04-07 22:02:04+00:00  Donald J. Trump  Washington, DC          10273   \n",
       "2019-04-07 22:02:03+00:00  Donald J. Trump  Washington, DC          10516   \n",
       "2019-04-07 19:54:53+00:00  Donald J. Trump  Washington, DC           7844   \n",
       "2019-04-07 19:53:56+00:00  Donald J. Trump  Washington, DC          11164   \n",
       "2019-04-07 19:50:54+00:00  Donald J. Trump  Washington, DC          14937   \n",
       "\n",
       "                                                                        text  \\\n",
       "created_at                                                                     \n",
       "2019-04-07 22:02:04+00:00  ....I am pleased to announce that Kevin McAlee...   \n",
       "2019-04-07 22:02:03+00:00  Secretary of Homeland Security Kirstjen Nielse...   \n",
       "2019-04-07 19:54:53+00:00  RT @mike_pence: .@RealDonaldTrump is doing his...   \n",
       "2019-04-07 19:53:56+00:00  RT @mike_pence: The last 2 years, under @RealD...   \n",
       "2019-04-07 19:50:54+00:00  Pleased to report that the American tourist an...   \n",
       "\n",
       "                               screen_name  \n",
       "created_at                                  \n",
       "2019-04-07 22:02:04+00:00  realDonaldTrump  \n",
       "2019-04-07 22:02:03+00:00  realDonaldTrump  \n",
       "2019-04-07 19:54:53+00:00  realDonaldTrump  \n",
       "2019-04-07 19:53:56+00:00  realDonaldTrump  \n",
       "2019-04-07 19:50:54+00:00  realDonaldTrump  "
      ]
     },
     "execution_count": 107,
     "metadata": {},
     "output_type": "execute_result"
    }
   ],
   "source": [
    "df.head()\n",
    "\n",
    "#look at word frequency"
   ]
  },
  {
   "cell_type": "code",
   "execution_count": 167,
   "metadata": {},
   "outputs": [],
   "source": [
    "tweets = df['text'].values\n",
    "tweets = ','.join(tweets)"
   ]
  },
  {
   "cell_type": "markdown",
   "metadata": {},
   "source": [
    "Let's remove all links in the text."
   ]
  },
  {
   "cell_type": "code",
   "execution_count": 170,
   "metadata": {},
   "outputs": [],
   "source": [
    "import re\n",
    "tweets = re.sub(r'(https|http)?:\\/\\/(\\w|\\.|\\/|\\?|\\=|\\&|\\%)*\\b', '', tweets)\n",
    "tweets = tweets.split(' ')"
   ]
  },
  {
   "cell_type": "markdown",
   "metadata": {},
   "source": [
    "Let's also remove stop words in our tweets"
   ]
  },
  {
   "cell_type": "code",
   "execution_count": 165,
   "metadata": {},
   "outputs": [
    {
     "name": "stderr",
     "output_type": "stream",
     "text": [
      "[nltk_data] Downloading package stopwords to\n",
      "[nltk_data]     /Users/antsar/nltk_data...\n",
      "[nltk_data]   Package stopwords is already up-to-date!\n"
     ]
    }
   ],
   "source": [
    "import nltk\n",
    "from nltk.corpus import stopwords\n",
    "stop_words = nltk.download('stopwords')\n",
    "stop_words = list(set(stopwords.words('english')))"
   ]
  },
  {
   "cell_type": "code",
   "execution_count": 199,
   "metadata": {},
   "outputs": [],
   "source": [
    "words=[]\n",
    "for word in tweets:\n",
    "    if word not in stop_words:\n",
    "        words.append(word)"
   ]
  },
  {
   "cell_type": "code",
   "execution_count": 200,
   "metadata": {},
   "outputs": [],
   "source": [
    "from collections import Counter\n",
    "keys = Counter(words).keys() # equals to list(set(words))\n",
    "frequency = Counter(words).values() # counts the elements' frequency"
   ]
  },
  {
   "cell_type": "code",
   "execution_count": 219,
   "metadata": {},
   "outputs": [
    {
     "data": {
      "text/html": [
       "<div>\n",
       "<style scoped>\n",
       "    .dataframe tbody tr th:only-of-type {\n",
       "        vertical-align: middle;\n",
       "    }\n",
       "\n",
       "    .dataframe tbody tr th {\n",
       "        vertical-align: top;\n",
       "    }\n",
       "\n",
       "    .dataframe thead th {\n",
       "        text-align: right;\n",
       "    }\n",
       "</style>\n",
       "<table border=\"1\" class=\"dataframe\">\n",
       "  <thead>\n",
       "    <tr style=\"text-align: right;\">\n",
       "      <th></th>\n",
       "      <th>word</th>\n",
       "      <th>count</th>\n",
       "    </tr>\n",
       "  </thead>\n",
       "  <tbody>\n",
       "    <tr>\n",
       "      <th>1</th>\n",
       "      <td>JOE!</td>\n",
       "      <td>1</td>\n",
       "    </tr>\n",
       "    <tr>\n",
       "      <th>2</th>\n",
       "      <td>Heights</td>\n",
       "      <td>1</td>\n",
       "    </tr>\n",
       "    <tr>\n",
       "      <th>3</th>\n",
       "      <td>increase</td>\n",
       "      <td>1</td>\n",
       "    </tr>\n",
       "    <tr>\n",
       "      <th>4</th>\n",
       "      <td>196,000</td>\n",
       "      <td>1</td>\n",
       "    </tr>\n",
       "    <tr>\n",
       "      <th>5</th>\n",
       "      <td>Economist,</td>\n",
       "      <td>1</td>\n",
       "    </tr>\n",
       "  </tbody>\n",
       "</table>\n",
       "</div>"
      ],
      "text/plain": [
       "         word count\n",
       "1        JOE!     1\n",
       "2     Heights     1\n",
       "3    increase     1\n",
       "4     196,000     1\n",
       "5  Economist,     1"
      ]
     },
     "execution_count": 219,
     "metadata": {},
     "output_type": "execute_result"
    }
   ],
   "source": [
    "word_count = pd.DataFrame(data=[keys, frequency]).T\n",
    "word_count.columns=['word', 'count']\n",
    "word_count = word_count[word_count.word != '']\n",
    "word_count.head()"
   ]
  },
  {
   "cell_type": "code",
   "execution_count": 220,
   "metadata": {},
   "outputs": [],
   "source": [
    "word_count.dtypes\n",
    "word_count[\"count\"] = pd.to_numeric(word_count[\"count\"])"
   ]
  },
  {
   "cell_type": "code",
   "execution_count": 223,
   "metadata": {},
   "outputs": [
    {
     "data": {
      "image/png": "[encoded data removed]",
      "text/plain": [
       "<Figure size 432x288 with 1 Axes>"
      ]
     },
     "metadata": {
      "needs_background": "light"
     },
     "output_type": "display_data"
    }
   ],
   "source": [
    "common = word_count.nlargest(15, ['count'])\n",
    "\n",
    "common.plot(x='word', y='count', kind='bar')\n",
    "plt.title('Most common words in Trump tweets')\n",
    "plt.ylabel('Count')\n",
    "plt.show()"
   ]
  },
  {
   "cell_type": "markdown",
   "metadata": {},
   "source": [
    "It seems that some stop words like \"I, The\" were not removed. I am not sure why that is...\n",
    "However, it seems that the most common word in Trump's tweets is \"No\"."
   ]
  },
  {
   "cell_type": "markdown",
   "metadata": {},
   "source": [
    "## Summary and Insights on Tweets data"
   ]
  },
  {
   "cell_type": "markdown",
   "metadata": {},
   "source": [
    "### Data Audit\n",
    "\n",
    "1. There were duplicates in our data.\n",
    "2. Trump hasn't used any hashtags. "
   ]
  },
  {
   "cell_type": "markdown",
   "metadata": {},
   "source": [
    "### Data Analysis\n",
    "1. The number of tweets posted by Trump fluctuates a lot over time.\n",
    "2. There seem to be less tweets overall being posed by Trump on Monday and Sunday.\n",
    "3. Spike in number of retweets is associated with the Mueller report outcome.\n",
    "4. Most common word in the tweets is 'No'."
   ]
  },
  {
   "cell_type": "code",
   "execution_count": null,
   "metadata": {},
   "outputs": [],
   "source": []
  }
 ],
 "metadata": {
  "kernelspec": {
   "display_name": "Python 2",
   "language": "python",
   "name": "python2"
  },
  "language_info": {
   "codemirror_mode": {
    "name": "ipython",
    "version": 2
   },
   "file_extension": ".py",
   "mimetype": "text/x-python",
   "name": "python",
   "nbconvert_exporter": "python",
   "pygments_lexer": "ipython2",
   "version": "2.7.16"
  }
 },
 "nbformat": 4,
 "nbformat_minor": 2
}
