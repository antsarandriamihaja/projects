{
 "cells": [
  {
   "cell_type": "markdown",
   "metadata": {},
   "source": [
    "## Data Audit - Tweets\n",
    "\n",
    "As the Twitter API allows retrieval of up to 7 days of tweet history, and @Apple hasn't posted any tweet in the last 7 days, we are going to look at tweets from @realDonaldTrump in this notebook. \n",
    "Additionally, there hasn't been any mention of @Apple in other user's tweets."
   ]
  },
  {
   "cell_type": "markdown",
   "metadata": {},
   "source": [
    "Let's get the data from BigQuery, since it's not that big."
   ]
  },
  {
   "cell_type": "code",
   "execution_count": 4,
   "metadata": {},
   "outputs": [
    {
     "name": "stdout",
     "output_type": "stream",
     "text": [
      "There are 400 rows.\n"
     ]
    },
    {
     "data": {
      "text/html": [
       "<div>\n",
       "<style scoped>\n",
       "    .dataframe tbody tr th:only-of-type {\n",
       "        vertical-align: middle;\n",
       "    }\n",
       "\n",
       "    .dataframe tbody tr th {\n",
       "        vertical-align: top;\n",
       "    }\n",
       "\n",
       "    .dataframe thead th {\n",
       "        text-align: right;\n",
       "    }\n",
       "</style>\n",
       "<table border=\"1\" class=\"dataframe\">\n",
       "  <thead>\n",
       "    <tr style=\"text-align: right;\">\n",
       "      <th></th>\n",
       "      <th>name</th>\n",
       "      <th>location</th>\n",
       "      <th>retweet_count</th>\n",
       "      <th>hashtags</th>\n",
       "      <th>created_at</th>\n",
       "      <th>text</th>\n",
       "      <th>screen_name</th>\n",
       "    </tr>\n",
       "  </thead>\n",
       "  <tbody>\n",
       "    <tr>\n",
       "      <th>0</th>\n",
       "      <td>Donald J. Trump</td>\n",
       "      <td>Washington, DC</td>\n",
       "      <td>10273</td>\n",
       "      <td>[]</td>\n",
       "      <td>Sun Apr 07 22:02:04 +0000 2019</td>\n",
       "      <td>....I am pleased to announce that Kevin McAlee...</td>\n",
       "      <td>realDonaldTrump</td>\n",
       "    </tr>\n",
       "    <tr>\n",
       "      <th>1</th>\n",
       "      <td>Donald J. Trump</td>\n",
       "      <td>Washington, DC</td>\n",
       "      <td>10516</td>\n",
       "      <td>[]</td>\n",
       "      <td>Sun Apr 07 22:02:03 +0000 2019</td>\n",
       "      <td>Secretary of Homeland Security Kirstjen Nielse...</td>\n",
       "      <td>realDonaldTrump</td>\n",
       "    </tr>\n",
       "    <tr>\n",
       "      <th>2</th>\n",
       "      <td>Donald J. Trump</td>\n",
       "      <td>Washington, DC</td>\n",
       "      <td>7844</td>\n",
       "      <td>[]</td>\n",
       "      <td>Sun Apr 07 19:54:53 +0000 2019</td>\n",
       "      <td>RT @mike_pence: .@RealDonaldTrump is doing his...</td>\n",
       "      <td>realDonaldTrump</td>\n",
       "    </tr>\n",
       "    <tr>\n",
       "      <th>3</th>\n",
       "      <td>Donald J. Trump</td>\n",
       "      <td>Washington, DC</td>\n",
       "      <td>11164</td>\n",
       "      <td>[]</td>\n",
       "      <td>Sun Apr 07 19:53:56 +0000 2019</td>\n",
       "      <td>RT @mike_pence: The last 2 years, under @RealD...</td>\n",
       "      <td>realDonaldTrump</td>\n",
       "    </tr>\n",
       "    <tr>\n",
       "      <th>4</th>\n",
       "      <td>Donald J. Trump</td>\n",
       "      <td>Washington, DC</td>\n",
       "      <td>14937</td>\n",
       "      <td>[]</td>\n",
       "      <td>Sun Apr 07 19:50:54 +0000 2019</td>\n",
       "      <td>Pleased to report that the American tourist an...</td>\n",
       "      <td>realDonaldTrump</td>\n",
       "    </tr>\n",
       "  </tbody>\n",
       "</table>\n",
       "</div>"
      ],
      "text/plain": [
       "              name        location  retweet_count hashtags  \\\n",
       "0  Donald J. Trump  Washington, DC          10273       []   \n",
       "1  Donald J. Trump  Washington, DC          10516       []   \n",
       "2  Donald J. Trump  Washington, DC           7844       []   \n",
       "3  Donald J. Trump  Washington, DC          11164       []   \n",
       "4  Donald J. Trump  Washington, DC          14937       []   \n",
       "\n",
       "                       created_at  \\\n",
       "0  Sun Apr 07 22:02:04 +0000 2019   \n",
       "1  Sun Apr 07 22:02:03 +0000 2019   \n",
       "2  Sun Apr 07 19:54:53 +0000 2019   \n",
       "3  Sun Apr 07 19:53:56 +0000 2019   \n",
       "4  Sun Apr 07 19:50:54 +0000 2019   \n",
       "\n",
       "                                                text      screen_name  \n",
       "0  ....I am pleased to announce that Kevin McAlee...  realDonaldTrump  \n",
       "1  Secretary of Homeland Security Kirstjen Nielse...  realDonaldTrump  \n",
       "2  RT @mike_pence: .@RealDonaldTrump is doing his...  realDonaldTrump  \n",
       "3  RT @mike_pence: The last 2 years, under @RealD...  realDonaldTrump  \n",
       "4  Pleased to report that the American tourist an...  realDonaldTrump  "
      ]
     },
     "execution_count": 4,
     "metadata": {},
     "output_type": "execute_result"
    }
   ],
   "source": [
    "import google.cloud.bigquery as bq\n",
    "import pandas as pd\n",
    "\n",
    "client = bq.Client()\n",
    "sql = \"\"\"\n",
    "    SELECT * FROM `test-project-datalab-225214.AAPL.tweets_realdonaldtrump`\n",
    "\"\"\"\n",
    "tweets_data = client.query(sql).to_dataframe()\n",
    "\n",
    "print(\"There are {} rows.\".format(len(tweets_data)))\n",
    "tweets_data.head()"
   ]
  },
  {
   "cell_type": "code",
   "execution_count": 31,
   "metadata": {},
   "outputs": [
    {
     "data": {
      "text/html": [
       "<div>\n",
       "<style scoped>\n",
       "    .dataframe tbody tr th:only-of-type {\n",
       "        vertical-align: middle;\n",
       "    }\n",
       "\n",
       "    .dataframe tbody tr th {\n",
       "        vertical-align: top;\n",
       "    }\n",
       "\n",
       "    .dataframe thead th {\n",
       "        text-align: right;\n",
       "    }\n",
       "</style>\n",
       "<table border=\"1\" class=\"dataframe\">\n",
       "  <thead>\n",
       "    <tr style=\"text-align: right;\">\n",
       "      <th></th>\n",
       "      <th>name</th>\n",
       "      <th>location</th>\n",
       "      <th>retweet_count</th>\n",
       "      <th>hashtags</th>\n",
       "      <th>text</th>\n",
       "      <th>screen_name</th>\n",
       "    </tr>\n",
       "    <tr>\n",
       "      <th>created_at</th>\n",
       "      <th></th>\n",
       "      <th></th>\n",
       "      <th></th>\n",
       "      <th></th>\n",
       "      <th></th>\n",
       "      <th></th>\n",
       "    </tr>\n",
       "  </thead>\n",
       "  <tbody>\n",
       "    <tr>\n",
       "      <th>2019-04-07 22:02:04+00:00</th>\n",
       "      <td>Donald J. Trump</td>\n",
       "      <td>Washington, DC</td>\n",
       "      <td>10273</td>\n",
       "      <td>[]</td>\n",
       "      <td>....I am pleased to announce that Kevin McAlee...</td>\n",
       "      <td>realDonaldTrump</td>\n",
       "    </tr>\n",
       "    <tr>\n",
       "      <th>2019-04-07 22:02:03+00:00</th>\n",
       "      <td>Donald J. Trump</td>\n",
       "      <td>Washington, DC</td>\n",
       "      <td>10516</td>\n",
       "      <td>[]</td>\n",
       "      <td>Secretary of Homeland Security Kirstjen Nielse...</td>\n",
       "      <td>realDonaldTrump</td>\n",
       "    </tr>\n",
       "    <tr>\n",
       "      <th>2019-04-07 19:54:53+00:00</th>\n",
       "      <td>Donald J. Trump</td>\n",
       "      <td>Washington, DC</td>\n",
       "      <td>7844</td>\n",
       "      <td>[]</td>\n",
       "      <td>RT @mike_pence: .@RealDonaldTrump is doing his...</td>\n",
       "      <td>realDonaldTrump</td>\n",
       "    </tr>\n",
       "    <tr>\n",
       "      <th>2019-04-07 19:53:56+00:00</th>\n",
       "      <td>Donald J. Trump</td>\n",
       "      <td>Washington, DC</td>\n",
       "      <td>11164</td>\n",
       "      <td>[]</td>\n",
       "      <td>RT @mike_pence: The last 2 years, under @RealD...</td>\n",
       "      <td>realDonaldTrump</td>\n",
       "    </tr>\n",
       "    <tr>\n",
       "      <th>2019-04-07 19:50:54+00:00</th>\n",
       "      <td>Donald J. Trump</td>\n",
       "      <td>Washington, DC</td>\n",
       "      <td>14937</td>\n",
       "      <td>[]</td>\n",
       "      <td>Pleased to report that the American tourist an...</td>\n",
       "      <td>realDonaldTrump</td>\n",
       "    </tr>\n",
       "  </tbody>\n",
       "</table>\n",
       "</div>"
      ],
      "text/plain": [
       "                                      name        location  retweet_count  \\\n",
       "created_at                                                                  \n",
       "2019-04-07 22:02:04+00:00  Donald J. Trump  Washington, DC          10273   \n",
       "2019-04-07 22:02:03+00:00  Donald J. Trump  Washington, DC          10516   \n",
       "2019-04-07 19:54:53+00:00  Donald J. Trump  Washington, DC           7844   \n",
       "2019-04-07 19:53:56+00:00  Donald J. Trump  Washington, DC          11164   \n",
       "2019-04-07 19:50:54+00:00  Donald J. Trump  Washington, DC          14937   \n",
       "\n",
       "                          hashtags  \\\n",
       "created_at                           \n",
       "2019-04-07 22:02:04+00:00       []   \n",
       "2019-04-07 22:02:03+00:00       []   \n",
       "2019-04-07 19:54:53+00:00       []   \n",
       "2019-04-07 19:53:56+00:00       []   \n",
       "2019-04-07 19:50:54+00:00       []   \n",
       "\n",
       "                                                                        text  \\\n",
       "created_at                                                                     \n",
       "2019-04-07 22:02:04+00:00  ....I am pleased to announce that Kevin McAlee...   \n",
       "2019-04-07 22:02:03+00:00  Secretary of Homeland Security Kirstjen Nielse...   \n",
       "2019-04-07 19:54:53+00:00  RT @mike_pence: .@RealDonaldTrump is doing his...   \n",
       "2019-04-07 19:53:56+00:00  RT @mike_pence: The last 2 years, under @RealD...   \n",
       "2019-04-07 19:50:54+00:00  Pleased to report that the American tourist an...   \n",
       "\n",
       "                               screen_name  \n",
       "created_at                                  \n",
       "2019-04-07 22:02:04+00:00  realDonaldTrump  \n",
       "2019-04-07 22:02:03+00:00  realDonaldTrump  \n",
       "2019-04-07 19:54:53+00:00  realDonaldTrump  \n",
       "2019-04-07 19:53:56+00:00  realDonaldTrump  \n",
       "2019-04-07 19:50:54+00:00  realDonaldTrump  "
      ]
     },
     "execution_count": 31,
     "metadata": {},
     "output_type": "execute_result"
    }
   ],
   "source": [
    "df = tweets_data.copy(deep=True)\n",
    "#making sure to use the timestamp as index\n",
    "df[\"created_at\"] = pd.to_datetime(df[\"created_at\"])\n",
    "df.index = df[\"created_at\"]\n",
    "del df[\"created_at\"]\n",
    "df.head()"
   ]
  },
  {
   "cell_type": "markdown",
   "metadata": {},
   "source": [
    "Let's check if there are duplicate entries."
   ]
  },
  {
   "cell_type": "code",
   "execution_count": 32,
   "metadata": {},
   "outputs": [],
   "source": [
    "df = df[~df.index.duplicated(keep='first')]"
   ]
  },
  {
   "cell_type": "code",
   "execution_count": 33,
   "metadata": {},
   "outputs": [
    {
     "data": {
      "text/plain": [
       "201"
      ]
     },
     "execution_count": 33,
     "metadata": {},
     "output_type": "execute_result"
    }
   ],
   "source": [
    "len(df)"
   ]
  },
  {
   "cell_type": "markdown",
   "metadata": {},
   "source": [
    "It looks like we had some duplicated data."
   ]
  },
  {
   "cell_type": "markdown",
   "metadata": {},
   "source": [
    "It looks like we don't have null values in our data"
   ]
  },
  {
   "cell_type": "markdown",
   "metadata": {},
   "source": [
    "Let's see if there are tweets were hashtags were used"
   ]
  },
  {
   "cell_type": "code",
   "execution_count": 34,
   "metadata": {},
   "outputs": [],
   "source": [
    "df['num_hashtags'] = df['hashtags'].str.count(\"/\") + 1"
   ]
  },
  {
   "cell_type": "markdown",
   "metadata": {},
   "source": [
    "Let's check all null/None values."
   ]
  },
  {
   "cell_type": "code",
   "execution_count": 35,
   "metadata": {},
   "outputs": [
    {
     "data": {
      "text/plain": [
       "name               0\n",
       "location           0\n",
       "retweet_count      0\n",
       "hashtags           0\n",
       "text               0\n",
       "screen_name        0\n",
       "num_hashtags     201\n",
       "dtype: int64"
      ]
     },
     "execution_count": 35,
     "metadata": {},
     "output_type": "execute_result"
    }
   ],
   "source": [
    "df.isna().sum()"
   ]
  },
  {
   "cell_type": "markdown",
   "metadata": {},
   "source": [
    "It seems that Trump hasn't added any hashtags to his tweets for the last 7 days. We are just going to get rid of that field for now."
   ]
  },
  {
   "cell_type": "code",
   "execution_count": 36,
   "metadata": {},
   "outputs": [],
   "source": [
    "df = df.drop(['hashtags','num_hashtags'], axis=1)"
   ]
  },
  {
   "cell_type": "markdown",
   "metadata": {},
   "source": [
    "Ok, so now that we got rid of duplicate data and unnecessary fields, let's do some analysis."
   ]
  },
  {
   "cell_type": "markdown",
   "metadata": {},
   "source": [
    "## Data Analysis - Tweets"
   ]
  },
  {
   "cell_type": "code",
   "execution_count": null,
   "metadata": {},
   "outputs": [],
   "source": []
  }
 ],
 "metadata": {
  "kernelspec": {
   "display_name": "Python 2",
   "language": "python",
   "name": "python2"
  },
  "language_info": {
   "codemirror_mode": {
    "name": "ipython",
    "version": 2
   },
   "file_extension": ".py",
   "mimetype": "text/x-python",
   "name": "python",
   "nbconvert_exporter": "python",
   "pygments_lexer": "ipython2",
   "version": "2.7.16"
  }
 },
 "nbformat": 4,
 "nbformat_minor": 2
}
