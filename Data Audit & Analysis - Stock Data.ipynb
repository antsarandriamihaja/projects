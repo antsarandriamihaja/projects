{
 "cells": [
  {
   "cell_type": "markdown",
   "metadata": {},
   "source": [
    "# Data Audit - Stock data"
   ]
  },
  {
   "cell_type": "markdown",
   "metadata": {},
   "source": [
    "Let's start off with the financial data containing Apple's stock price that we obtained using the Barchart API. Let's grab the data we put in BigQuery. Since it's not much, we can grab all of it. "
   ]
  },
  {
   "cell_type": "code",
   "execution_count": 43,
   "metadata": {},
   "outputs": [
    {
     "name": "stdout",
     "output_type": "stream",
     "text": [
      "There are 109 rows.\n"
     ]
    },
    {
     "data": {
      "text/html": [
       "<div>\n",
       "<style scoped>\n",
       "    .dataframe tbody tr th:only-of-type {\n",
       "        vertical-align: middle;\n",
       "    }\n",
       "\n",
       "    .dataframe tbody tr th {\n",
       "        vertical-align: top;\n",
       "    }\n",
       "\n",
       "    .dataframe thead th {\n",
       "        text-align: right;\n",
       "    }\n",
       "</style>\n",
       "<table border=\"1\" class=\"dataframe\">\n",
       "  <thead>\n",
       "    <tr style=\"text-align: right;\">\n",
       "      <th></th>\n",
       "      <th>volume</th>\n",
       "      <th>timestamp</th>\n",
       "      <th>symbol</th>\n",
       "      <th>high</th>\n",
       "      <th>tradingDay</th>\n",
       "      <th>low</th>\n",
       "      <th>close</th>\n",
       "      <th>openInterest</th>\n",
       "      <th>open</th>\n",
       "    </tr>\n",
       "  </thead>\n",
       "  <tbody>\n",
       "    <tr>\n",
       "      <th>0</th>\n",
       "      <td>24796300</td>\n",
       "      <td>2019-03-07 05:00:00+00:00</td>\n",
       "      <td>AAPL</td>\n",
       "      <td>174.44</td>\n",
       "      <td>2019-03-07</td>\n",
       "      <td>172.02</td>\n",
       "      <td>172.50</td>\n",
       "      <td>None</td>\n",
       "      <td>173.87</td>\n",
       "    </tr>\n",
       "    <tr>\n",
       "      <th>1</th>\n",
       "      <td>23999300</td>\n",
       "      <td>2019-03-08 05:00:00+00:00</td>\n",
       "      <td>AAPL</td>\n",
       "      <td>173.07</td>\n",
       "      <td>2019-03-08</td>\n",
       "      <td>169.50</td>\n",
       "      <td>172.91</td>\n",
       "      <td>None</td>\n",
       "      <td>170.32</td>\n",
       "    </tr>\n",
       "    <tr>\n",
       "      <th>2</th>\n",
       "      <td>32011000</td>\n",
       "      <td>2019-03-11 04:00:00+00:00</td>\n",
       "      <td>AAPL</td>\n",
       "      <td>179.12</td>\n",
       "      <td>2019-03-11</td>\n",
       "      <td>175.35</td>\n",
       "      <td>178.90</td>\n",
       "      <td>None</td>\n",
       "      <td>175.49</td>\n",
       "    </tr>\n",
       "    <tr>\n",
       "      <th>3</th>\n",
       "      <td>32467500</td>\n",
       "      <td>2019-03-12 04:00:00+00:00</td>\n",
       "      <td>AAPL</td>\n",
       "      <td>182.67</td>\n",
       "      <td>2019-03-12</td>\n",
       "      <td>179.37</td>\n",
       "      <td>180.91</td>\n",
       "      <td>None</td>\n",
       "      <td>180.00</td>\n",
       "    </tr>\n",
       "    <tr>\n",
       "      <th>4</th>\n",
       "      <td>31032500</td>\n",
       "      <td>2019-03-13 04:00:00+00:00</td>\n",
       "      <td>AAPL</td>\n",
       "      <td>183.30</td>\n",
       "      <td>2019-03-13</td>\n",
       "      <td>180.92</td>\n",
       "      <td>181.71</td>\n",
       "      <td>None</td>\n",
       "      <td>182.25</td>\n",
       "    </tr>\n",
       "  </tbody>\n",
       "</table>\n",
       "</div>"
      ],
      "text/plain": [
       "     volume                 timestamp symbol    high  tradingDay     low  \\\n",
       "0  24796300 2019-03-07 05:00:00+00:00   AAPL  174.44  2019-03-07  172.02   \n",
       "1  23999300 2019-03-08 05:00:00+00:00   AAPL  173.07  2019-03-08  169.50   \n",
       "2  32011000 2019-03-11 04:00:00+00:00   AAPL  179.12  2019-03-11  175.35   \n",
       "3  32467500 2019-03-12 04:00:00+00:00   AAPL  182.67  2019-03-12  179.37   \n",
       "4  31032500 2019-03-13 04:00:00+00:00   AAPL  183.30  2019-03-13  180.92   \n",
       "\n",
       "    close openInterest    open  \n",
       "0  172.50         None  173.87  \n",
       "1  172.91         None  170.32  \n",
       "2  178.90         None  175.49  \n",
       "3  180.91         None  180.00  \n",
       "4  181.71         None  182.25  "
      ]
     },
     "execution_count": 43,
     "metadata": {},
     "output_type": "execute_result"
    }
   ],
   "source": [
    "import google.cloud.bigquery as bq\n",
    "import pandas as pd\n",
    "\n",
    "client = bq.Client()\n",
    "sql = \"\"\"\n",
    "    SELECT * FROM `test-project-datalab-225214.AAPL.stocks`\n",
    "\"\"\"\n",
    "stock_data = client.query(sql).to_dataframe()\n",
    "\n",
    "print(\"There are {} rows.\".format(len(stock_data)))\n",
    "stock_data.head()\n"
   ]
  },
  {
   "cell_type": "code",
   "execution_count": 49,
   "metadata": {},
   "outputs": [
    {
     "data": {
      "text/plain": [
       "volume                        int64\n",
       "timestamp       datetime64[ns, UTC]\n",
       "symbol                       object\n",
       "high                        float64\n",
       "tradingDay                   object\n",
       "low                         float64\n",
       "close                       float64\n",
       "openInterest                 object\n",
       "open                        float64\n",
       "dtype: object"
      ]
     },
     "execution_count": 49,
     "metadata": {},
     "output_type": "execute_result"
    }
   ],
   "source": [
    "# looking at the type of each field\n",
    "stock_data.dtypes"
   ]
  },
  {
   "cell_type": "markdown",
   "metadata": {},
   "source": [
    "Let's see what the Null/None values are"
   ]
  },
  {
   "cell_type": "code",
   "execution_count": 44,
   "metadata": {},
   "outputs": [
    {
     "data": {
      "text/plain": [
       "volume            0\n",
       "timestamp         0\n",
       "symbol            0\n",
       "high              0\n",
       "tradingDay        0\n",
       "low               0\n",
       "close             0\n",
       "openInterest    109\n",
       "open              0\n",
       "dtype: int64"
      ]
     },
     "execution_count": 44,
     "metadata": {},
     "output_type": "execute_result"
    }
   ],
   "source": [
    "stock_data.isna().sum()"
   ]
  },
  {
   "cell_type": "markdown",
   "metadata": {},
   "source": [
    "It looks like openInterest field is always None. We can get rid of this field. The other fields are okay."
   ]
  },
  {
   "cell_type": "code",
   "execution_count": 67,
   "metadata": {},
   "outputs": [],
   "source": [
    "df = stock_data.copy(deep=True)\n",
    "df.drop('openInterest', axis=1, inplace=True)\n"
   ]
  },
  {
   "cell_type": "code",
   "execution_count": 68,
   "metadata": {},
   "outputs": [
    {
     "data": {
      "text/html": [
       "<div>\n",
       "<style scoped>\n",
       "    .dataframe tbody tr th:only-of-type {\n",
       "        vertical-align: middle;\n",
       "    }\n",
       "\n",
       "    .dataframe tbody tr th {\n",
       "        vertical-align: top;\n",
       "    }\n",
       "\n",
       "    .dataframe thead th {\n",
       "        text-align: right;\n",
       "    }\n",
       "</style>\n",
       "<table border=\"1\" class=\"dataframe\">\n",
       "  <thead>\n",
       "    <tr style=\"text-align: right;\">\n",
       "      <th></th>\n",
       "      <th>volume</th>\n",
       "      <th>high</th>\n",
       "      <th>low</th>\n",
       "      <th>close</th>\n",
       "      <th>open</th>\n",
       "    </tr>\n",
       "  </thead>\n",
       "  <tbody>\n",
       "    <tr>\n",
       "      <th>count</th>\n",
       "      <td>1.090000e+02</td>\n",
       "      <td>109.000000</td>\n",
       "      <td>109.000000</td>\n",
       "      <td>109.000000</td>\n",
       "      <td>109.000000</td>\n",
       "    </tr>\n",
       "    <tr>\n",
       "      <th>mean</th>\n",
       "      <td>3.044456e+07</td>\n",
       "      <td>189.009220</td>\n",
       "      <td>185.391560</td>\n",
       "      <td>187.481651</td>\n",
       "      <td>187.136055</td>\n",
       "    </tr>\n",
       "    <tr>\n",
       "      <th>std</th>\n",
       "      <td>9.290900e+06</td>\n",
       "      <td>6.767808</td>\n",
       "      <td>6.465837</td>\n",
       "      <td>6.518023</td>\n",
       "      <td>6.806789</td>\n",
       "    </tr>\n",
       "    <tr>\n",
       "      <th>min</th>\n",
       "      <td>1.852660e+07</td>\n",
       "      <td>173.070000</td>\n",
       "      <td>169.500000</td>\n",
       "      <td>172.500000</td>\n",
       "      <td>170.320000</td>\n",
       "    </tr>\n",
       "    <tr>\n",
       "      <th>25%</th>\n",
       "      <td>2.356390e+07</td>\n",
       "      <td>184.100000</td>\n",
       "      <td>182.560000</td>\n",
       "      <td>183.730000</td>\n",
       "      <td>183.900000</td>\n",
       "    </tr>\n",
       "    <tr>\n",
       "      <th>50%</th>\n",
       "      <td>2.984840e+07</td>\n",
       "      <td>189.760000</td>\n",
       "      <td>186.550000</td>\n",
       "      <td>188.470000</td>\n",
       "      <td>188.950000</td>\n",
       "    </tr>\n",
       "    <tr>\n",
       "      <th>75%</th>\n",
       "      <td>3.246750e+07</td>\n",
       "      <td>194.460000</td>\n",
       "      <td>189.810000</td>\n",
       "      <td>191.240000</td>\n",
       "      <td>191.640000</td>\n",
       "    </tr>\n",
       "    <tr>\n",
       "      <th>max</th>\n",
       "      <td>5.103420e+07</td>\n",
       "      <td>197.690000</td>\n",
       "      <td>195.930000</td>\n",
       "      <td>197.000000</td>\n",
       "      <td>196.450000</td>\n",
       "    </tr>\n",
       "  </tbody>\n",
       "</table>\n",
       "</div>"
      ],
      "text/plain": [
       "             volume        high         low       close        open\n",
       "count  1.090000e+02  109.000000  109.000000  109.000000  109.000000\n",
       "mean   3.044456e+07  189.009220  185.391560  187.481651  187.136055\n",
       "std    9.290900e+06    6.767808    6.465837    6.518023    6.806789\n",
       "min    1.852660e+07  173.070000  169.500000  172.500000  170.320000\n",
       "25%    2.356390e+07  184.100000  182.560000  183.730000  183.900000\n",
       "50%    2.984840e+07  189.760000  186.550000  188.470000  188.950000\n",
       "75%    3.246750e+07  194.460000  189.810000  191.240000  191.640000\n",
       "max    5.103420e+07  197.690000  195.930000  197.000000  196.450000"
      ]
     },
     "execution_count": 68,
     "metadata": {},
     "output_type": "execute_result"
    }
   ],
   "source": [
    "df.describe()"
   ]
  },
  {
   "cell_type": "code",
   "execution_count": 69,
   "metadata": {},
   "outputs": [
    {
     "data": {
      "text/html": [
       "<div>\n",
       "<style scoped>\n",
       "    .dataframe tbody tr th:only-of-type {\n",
       "        vertical-align: middle;\n",
       "    }\n",
       "\n",
       "    .dataframe tbody tr th {\n",
       "        vertical-align: top;\n",
       "    }\n",
       "\n",
       "    .dataframe thead th {\n",
       "        text-align: right;\n",
       "    }\n",
       "</style>\n",
       "<table border=\"1\" class=\"dataframe\">\n",
       "  <thead>\n",
       "    <tr style=\"text-align: right;\">\n",
       "      <th></th>\n",
       "      <th>volume</th>\n",
       "      <th>symbol</th>\n",
       "      <th>high</th>\n",
       "      <th>tradingDay</th>\n",
       "      <th>low</th>\n",
       "      <th>close</th>\n",
       "      <th>open</th>\n",
       "    </tr>\n",
       "    <tr>\n",
       "      <th>timestamp</th>\n",
       "      <th></th>\n",
       "      <th></th>\n",
       "      <th></th>\n",
       "      <th></th>\n",
       "      <th></th>\n",
       "      <th></th>\n",
       "      <th></th>\n",
       "    </tr>\n",
       "  </thead>\n",
       "  <tbody>\n",
       "    <tr>\n",
       "      <th>2019-03-07 05:00:00+00:00</th>\n",
       "      <td>24796300</td>\n",
       "      <td>AAPL</td>\n",
       "      <td>174.44</td>\n",
       "      <td>2019-03-07</td>\n",
       "      <td>172.02</td>\n",
       "      <td>172.50</td>\n",
       "      <td>173.87</td>\n",
       "    </tr>\n",
       "    <tr>\n",
       "      <th>2019-03-08 05:00:00+00:00</th>\n",
       "      <td>23999300</td>\n",
       "      <td>AAPL</td>\n",
       "      <td>173.07</td>\n",
       "      <td>2019-03-08</td>\n",
       "      <td>169.50</td>\n",
       "      <td>172.91</td>\n",
       "      <td>170.32</td>\n",
       "    </tr>\n",
       "    <tr>\n",
       "      <th>2019-03-11 04:00:00+00:00</th>\n",
       "      <td>32011000</td>\n",
       "      <td>AAPL</td>\n",
       "      <td>179.12</td>\n",
       "      <td>2019-03-11</td>\n",
       "      <td>175.35</td>\n",
       "      <td>178.90</td>\n",
       "      <td>175.49</td>\n",
       "    </tr>\n",
       "    <tr>\n",
       "      <th>2019-03-12 04:00:00+00:00</th>\n",
       "      <td>32467500</td>\n",
       "      <td>AAPL</td>\n",
       "      <td>182.67</td>\n",
       "      <td>2019-03-12</td>\n",
       "      <td>179.37</td>\n",
       "      <td>180.91</td>\n",
       "      <td>180.00</td>\n",
       "    </tr>\n",
       "    <tr>\n",
       "      <th>2019-03-13 04:00:00+00:00</th>\n",
       "      <td>31032500</td>\n",
       "      <td>AAPL</td>\n",
       "      <td>183.30</td>\n",
       "      <td>2019-03-13</td>\n",
       "      <td>180.92</td>\n",
       "      <td>181.71</td>\n",
       "      <td>182.25</td>\n",
       "    </tr>\n",
       "  </tbody>\n",
       "</table>\n",
       "</div>"
      ],
      "text/plain": [
       "                             volume symbol    high  tradingDay     low  \\\n",
       "timestamp                                                                \n",
       "2019-03-07 05:00:00+00:00  24796300   AAPL  174.44  2019-03-07  172.02   \n",
       "2019-03-08 05:00:00+00:00  23999300   AAPL  173.07  2019-03-08  169.50   \n",
       "2019-03-11 04:00:00+00:00  32011000   AAPL  179.12  2019-03-11  175.35   \n",
       "2019-03-12 04:00:00+00:00  32467500   AAPL  182.67  2019-03-12  179.37   \n",
       "2019-03-13 04:00:00+00:00  31032500   AAPL  183.30  2019-03-13  180.92   \n",
       "\n",
       "                            close    open  \n",
       "timestamp                                  \n",
       "2019-03-07 05:00:00+00:00  172.50  173.87  \n",
       "2019-03-08 05:00:00+00:00  172.91  170.32  \n",
       "2019-03-11 04:00:00+00:00  178.90  175.49  \n",
       "2019-03-12 04:00:00+00:00  180.91  180.00  \n",
       "2019-03-13 04:00:00+00:00  181.71  182.25  "
      ]
     },
     "execution_count": 69,
     "metadata": {},
     "output_type": "execute_result"
    }
   ],
   "source": [
    "#making sure to use the timestamp as index\n",
    "df[\"timestamp\"] = pd.to_datetime(df[\"timestamp\"])\n",
    "df.index = df[\"timestamp\"]\n",
    "del df[\"timestamp\"]\n",
    "df.head()"
   ]
  },
  {
   "cell_type": "markdown",
   "metadata": {},
   "source": [
    "Let's view all stock data that occurred on March 11, 2019"
   ]
  },
  {
   "cell_type": "code",
   "execution_count": 70,
   "metadata": {},
   "outputs": [
    {
     "data": {
      "text/html": [
       "<div>\n",
       "<style scoped>\n",
       "    .dataframe tbody tr th:only-of-type {\n",
       "        vertical-align: middle;\n",
       "    }\n",
       "\n",
       "    .dataframe tbody tr th {\n",
       "        vertical-align: top;\n",
       "    }\n",
       "\n",
       "    .dataframe thead th {\n",
       "        text-align: right;\n",
       "    }\n",
       "</style>\n",
       "<table border=\"1\" class=\"dataframe\">\n",
       "  <thead>\n",
       "    <tr style=\"text-align: right;\">\n",
       "      <th></th>\n",
       "      <th>volume</th>\n",
       "      <th>symbol</th>\n",
       "      <th>high</th>\n",
       "      <th>tradingDay</th>\n",
       "      <th>low</th>\n",
       "      <th>close</th>\n",
       "      <th>open</th>\n",
       "    </tr>\n",
       "    <tr>\n",
       "      <th>timestamp</th>\n",
       "      <th></th>\n",
       "      <th></th>\n",
       "      <th></th>\n",
       "      <th></th>\n",
       "      <th></th>\n",
       "      <th></th>\n",
       "      <th></th>\n",
       "    </tr>\n",
       "  </thead>\n",
       "  <tbody>\n",
       "    <tr>\n",
       "      <th>2019-03-11 04:00:00+00:00</th>\n",
       "      <td>32011000</td>\n",
       "      <td>AAPL</td>\n",
       "      <td>179.12</td>\n",
       "      <td>2019-03-11</td>\n",
       "      <td>175.35</td>\n",
       "      <td>178.9</td>\n",
       "      <td>175.49</td>\n",
       "    </tr>\n",
       "    <tr>\n",
       "      <th>2019-03-11 04:00:00+00:00</th>\n",
       "      <td>32011000</td>\n",
       "      <td>AAPL</td>\n",
       "      <td>179.12</td>\n",
       "      <td>2019-03-11</td>\n",
       "      <td>175.35</td>\n",
       "      <td>178.9</td>\n",
       "      <td>175.49</td>\n",
       "    </tr>\n",
       "    <tr>\n",
       "      <th>2019-03-11 04:00:00+00:00</th>\n",
       "      <td>32011000</td>\n",
       "      <td>AAPL</td>\n",
       "      <td>179.12</td>\n",
       "      <td>2019-03-11</td>\n",
       "      <td>175.35</td>\n",
       "      <td>178.9</td>\n",
       "      <td>175.49</td>\n",
       "    </tr>\n",
       "    <tr>\n",
       "      <th>2019-03-11 04:00:00+00:00</th>\n",
       "      <td>32011000</td>\n",
       "      <td>AAPL</td>\n",
       "      <td>179.12</td>\n",
       "      <td>2019-03-11</td>\n",
       "      <td>175.35</td>\n",
       "      <td>178.9</td>\n",
       "      <td>175.49</td>\n",
       "    </tr>\n",
       "    <tr>\n",
       "      <th>2019-03-11 04:00:00+00:00</th>\n",
       "      <td>32011000</td>\n",
       "      <td>AAPL</td>\n",
       "      <td>179.12</td>\n",
       "      <td>2019-03-11</td>\n",
       "      <td>175.35</td>\n",
       "      <td>178.9</td>\n",
       "      <td>175.49</td>\n",
       "    </tr>\n",
       "  </tbody>\n",
       "</table>\n",
       "</div>"
      ],
      "text/plain": [
       "                             volume symbol    high  tradingDay     low  close  \\\n",
       "timestamp                                                                       \n",
       "2019-03-11 04:00:00+00:00  32011000   AAPL  179.12  2019-03-11  175.35  178.9   \n",
       "2019-03-11 04:00:00+00:00  32011000   AAPL  179.12  2019-03-11  175.35  178.9   \n",
       "2019-03-11 04:00:00+00:00  32011000   AAPL  179.12  2019-03-11  175.35  178.9   \n",
       "2019-03-11 04:00:00+00:00  32011000   AAPL  179.12  2019-03-11  175.35  178.9   \n",
       "2019-03-11 04:00:00+00:00  32011000   AAPL  179.12  2019-03-11  175.35  178.9   \n",
       "\n",
       "                             open  \n",
       "timestamp                          \n",
       "2019-03-11 04:00:00+00:00  175.49  \n",
       "2019-03-11 04:00:00+00:00  175.49  \n",
       "2019-03-11 04:00:00+00:00  175.49  \n",
       "2019-03-11 04:00:00+00:00  175.49  \n",
       "2019-03-11 04:00:00+00:00  175.49  "
      ]
     },
     "execution_count": 70,
     "metadata": {},
     "output_type": "execute_result"
    }
   ],
   "source": [
    "#check that we are able to get data based on the timestamp\n",
    "df[\"2019-03-11\"].head()"
   ]
  },
  {
   "cell_type": "markdown",
   "metadata": {},
   "source": [
    "It looks like we have duplicate values. Let's make sure that there are no duplicates in our data"
   ]
  },
  {
   "cell_type": "code",
   "execution_count": 71,
   "metadata": {},
   "outputs": [
    {
     "data": {
      "text/plain": [
       "22"
      ]
     },
     "execution_count": 71,
     "metadata": {},
     "output_type": "execute_result"
    }
   ],
   "source": [
    "\n",
    "dedup_df = df.drop_duplicates(keep=\"first\")\n",
    "len(dedup_df)"
   ]
  },
  {
   "cell_type": "markdown",
   "metadata": {},
   "source": [
    "So we only have 22 rows of data (down from 109) after getting rid of duplicates."
   ]
  },
  {
   "cell_type": "code",
   "execution_count": 84,
   "metadata": {},
   "outputs": [
    {
     "data": {
      "text/html": [
       "<div>\n",
       "<style scoped>\n",
       "    .dataframe tbody tr th:only-of-type {\n",
       "        vertical-align: middle;\n",
       "    }\n",
       "\n",
       "    .dataframe tbody tr th {\n",
       "        vertical-align: top;\n",
       "    }\n",
       "\n",
       "    .dataframe thead th {\n",
       "        text-align: right;\n",
       "    }\n",
       "</style>\n",
       "<table border=\"1\" class=\"dataframe\">\n",
       "  <thead>\n",
       "    <tr style=\"text-align: right;\">\n",
       "      <th></th>\n",
       "      <th>volume</th>\n",
       "      <th>high</th>\n",
       "      <th>low</th>\n",
       "      <th>close</th>\n",
       "      <th>open</th>\n",
       "    </tr>\n",
       "    <tr>\n",
       "      <th>timestamp</th>\n",
       "      <th></th>\n",
       "      <th></th>\n",
       "      <th></th>\n",
       "      <th></th>\n",
       "      <th></th>\n",
       "    </tr>\n",
       "  </thead>\n",
       "  <tbody>\n",
       "    <tr>\n",
       "      <th>4</th>\n",
       "      <td>30992750</td>\n",
       "      <td>190.38895</td>\n",
       "      <td>186.721</td>\n",
       "      <td>188.8095</td>\n",
       "      <td>188.5075</td>\n",
       "    </tr>\n",
       "    <tr>\n",
       "      <th>5</th>\n",
       "      <td>24397800</td>\n",
       "      <td>173.75500</td>\n",
       "      <td>170.760</td>\n",
       "      <td>172.7050</td>\n",
       "      <td>172.0950</td>\n",
       "    </tr>\n",
       "  </tbody>\n",
       "</table>\n",
       "</div>"
      ],
      "text/plain": [
       "             volume       high      low     close      open\n",
       "timestamp                                                  \n",
       "4          30992750  190.38895  186.721  188.8095  188.5075\n",
       "5          24397800  173.75500  170.760  172.7050  172.0950"
      ]
     },
     "execution_count": 84,
     "metadata": {},
     "output_type": "execute_result"
    }
   ],
   "source": [
    "hourly = dedup_df.groupby(dedup_df.index.hour).mean()\n",
    "hourly"
   ]
  },
  {
   "cell_type": "markdown",
   "metadata": {},
   "source": [
    "It appears that there are data only for 4am and 5am. Let's dig further into this and make sure we are actually only getting data for those specific hours.\n",
    "\n",
    "From the above table which shows the average volume, high, low, close, and open stock prices are all higher at 4am compared to at 5am."
   ]
  },
  {
   "cell_type": "code",
   "execution_count": 90,
   "metadata": {},
   "outputs": [
    {
     "data": {
      "text/html": [
       "<div>\n",
       "<style scoped>\n",
       "    .dataframe tbody tr th:only-of-type {\n",
       "        vertical-align: middle;\n",
       "    }\n",
       "\n",
       "    .dataframe tbody tr th {\n",
       "        vertical-align: top;\n",
       "    }\n",
       "\n",
       "    .dataframe thead th {\n",
       "        text-align: right;\n",
       "    }\n",
       "</style>\n",
       "<table border=\"1\" class=\"dataframe\">\n",
       "  <thead>\n",
       "    <tr style=\"text-align: right;\">\n",
       "      <th></th>\n",
       "      <th>volume</th>\n",
       "      <th>high</th>\n",
       "      <th>low</th>\n",
       "      <th>close</th>\n",
       "      <th>open</th>\n",
       "    </tr>\n",
       "    <tr>\n",
       "      <th>timestamp</th>\n",
       "      <th></th>\n",
       "      <th></th>\n",
       "      <th></th>\n",
       "      <th></th>\n",
       "      <th></th>\n",
       "    </tr>\n",
       "  </thead>\n",
       "  <tbody>\n",
       "    <tr>\n",
       "      <th>2019-03-07 05:00:00+00:00</th>\n",
       "      <td>24796300.0</td>\n",
       "      <td>174.440</td>\n",
       "      <td>172.02</td>\n",
       "      <td>172.50</td>\n",
       "      <td>173.87</td>\n",
       "    </tr>\n",
       "    <tr>\n",
       "      <th>2019-03-08 05:00:00+00:00</th>\n",
       "      <td>23999300.0</td>\n",
       "      <td>173.070</td>\n",
       "      <td>169.50</td>\n",
       "      <td>172.91</td>\n",
       "      <td>170.32</td>\n",
       "    </tr>\n",
       "    <tr>\n",
       "      <th>2019-03-11 04:00:00+00:00</th>\n",
       "      <td>32011000.0</td>\n",
       "      <td>179.120</td>\n",
       "      <td>175.35</td>\n",
       "      <td>178.90</td>\n",
       "      <td>175.49</td>\n",
       "    </tr>\n",
       "    <tr>\n",
       "      <th>2019-03-12 04:00:00+00:00</th>\n",
       "      <td>32467500.0</td>\n",
       "      <td>182.670</td>\n",
       "      <td>179.37</td>\n",
       "      <td>180.91</td>\n",
       "      <td>180.00</td>\n",
       "    </tr>\n",
       "    <tr>\n",
       "      <th>2019-03-13 04:00:00+00:00</th>\n",
       "      <td>31032500.0</td>\n",
       "      <td>183.300</td>\n",
       "      <td>180.92</td>\n",
       "      <td>181.71</td>\n",
       "      <td>182.25</td>\n",
       "    </tr>\n",
       "    <tr>\n",
       "      <th>2019-03-14 04:00:00+00:00</th>\n",
       "      <td>23579500.0</td>\n",
       "      <td>184.100</td>\n",
       "      <td>182.56</td>\n",
       "      <td>183.73</td>\n",
       "      <td>183.90</td>\n",
       "    </tr>\n",
       "    <tr>\n",
       "      <th>2019-03-15 04:00:00+00:00</th>\n",
       "      <td>39042900.0</td>\n",
       "      <td>187.330</td>\n",
       "      <td>183.74</td>\n",
       "      <td>186.12</td>\n",
       "      <td>184.85</td>\n",
       "    </tr>\n",
       "    <tr>\n",
       "      <th>2019-03-18 04:00:00+00:00</th>\n",
       "      <td>26219800.0</td>\n",
       "      <td>188.390</td>\n",
       "      <td>185.79</td>\n",
       "      <td>188.02</td>\n",
       "      <td>185.80</td>\n",
       "    </tr>\n",
       "    <tr>\n",
       "      <th>2019-03-19 04:00:00+00:00</th>\n",
       "      <td>31646300.0</td>\n",
       "      <td>188.990</td>\n",
       "      <td>185.92</td>\n",
       "      <td>186.53</td>\n",
       "      <td>188.35</td>\n",
       "    </tr>\n",
       "    <tr>\n",
       "      <th>2019-03-20 04:00:00+00:00</th>\n",
       "      <td>31035200.0</td>\n",
       "      <td>189.490</td>\n",
       "      <td>184.73</td>\n",
       "      <td>188.16</td>\n",
       "      <td>186.23</td>\n",
       "    </tr>\n",
       "    <tr>\n",
       "      <th>2019-03-21 04:00:00+00:00</th>\n",
       "      <td>51034200.0</td>\n",
       "      <td>196.330</td>\n",
       "      <td>189.81</td>\n",
       "      <td>195.09</td>\n",
       "      <td>190.02</td>\n",
       "    </tr>\n",
       "    <tr>\n",
       "      <th>2019-03-22 04:00:00+00:00</th>\n",
       "      <td>42407600.0</td>\n",
       "      <td>197.690</td>\n",
       "      <td>190.78</td>\n",
       "      <td>191.05</td>\n",
       "      <td>195.34</td>\n",
       "    </tr>\n",
       "    <tr>\n",
       "      <th>2019-03-25 04:00:00+00:00</th>\n",
       "      <td>43845200.0</td>\n",
       "      <td>191.980</td>\n",
       "      <td>186.60</td>\n",
       "      <td>188.74</td>\n",
       "      <td>191.51</td>\n",
       "    </tr>\n",
       "    <tr>\n",
       "      <th>2019-03-26 04:00:00+00:00</th>\n",
       "      <td>49800500.0</td>\n",
       "      <td>192.880</td>\n",
       "      <td>184.58</td>\n",
       "      <td>186.79</td>\n",
       "      <td>191.66</td>\n",
       "    </tr>\n",
       "    <tr>\n",
       "      <th>2019-03-27 04:00:00+00:00</th>\n",
       "      <td>29848400.0</td>\n",
       "      <td>189.760</td>\n",
       "      <td>186.55</td>\n",
       "      <td>188.47</td>\n",
       "      <td>188.75</td>\n",
       "    </tr>\n",
       "    <tr>\n",
       "      <th>2019-03-28 04:00:00+00:00</th>\n",
       "      <td>20780300.0</td>\n",
       "      <td>189.559</td>\n",
       "      <td>187.53</td>\n",
       "      <td>188.72</td>\n",
       "      <td>188.95</td>\n",
       "    </tr>\n",
       "    <tr>\n",
       "      <th>2019-03-29 04:00:00+00:00</th>\n",
       "      <td>23563900.0</td>\n",
       "      <td>190.080</td>\n",
       "      <td>188.54</td>\n",
       "      <td>189.95</td>\n",
       "      <td>189.83</td>\n",
       "    </tr>\n",
       "    <tr>\n",
       "      <th>2019-04-01 04:00:00+00:00</th>\n",
       "      <td>27861900.0</td>\n",
       "      <td>191.680</td>\n",
       "      <td>188.38</td>\n",
       "      <td>191.24</td>\n",
       "      <td>191.64</td>\n",
       "    </tr>\n",
       "    <tr>\n",
       "      <th>2019-04-02 04:00:00+00:00</th>\n",
       "      <td>22765700.0</td>\n",
       "      <td>194.460</td>\n",
       "      <td>191.05</td>\n",
       "      <td>194.02</td>\n",
       "      <td>191.09</td>\n",
       "    </tr>\n",
       "    <tr>\n",
       "      <th>2019-04-03 04:00:00+00:00</th>\n",
       "      <td>23271800.0</td>\n",
       "      <td>196.500</td>\n",
       "      <td>193.15</td>\n",
       "      <td>195.35</td>\n",
       "      <td>193.25</td>\n",
       "    </tr>\n",
       "    <tr>\n",
       "      <th>2019-04-04 04:00:00+00:00</th>\n",
       "      <td>19114200.0</td>\n",
       "      <td>196.370</td>\n",
       "      <td>193.14</td>\n",
       "      <td>195.69</td>\n",
       "      <td>194.79</td>\n",
       "    </tr>\n",
       "    <tr>\n",
       "      <th>2019-04-05 04:00:00+00:00</th>\n",
       "      <td>18526600.0</td>\n",
       "      <td>197.100</td>\n",
       "      <td>195.93</td>\n",
       "      <td>197.00</td>\n",
       "      <td>196.45</td>\n",
       "    </tr>\n",
       "  </tbody>\n",
       "</table>\n",
       "</div>"
      ],
      "text/plain": [
       "                               volume     high     low   close    open\n",
       "timestamp                                                             \n",
       "2019-03-07 05:00:00+00:00  24796300.0  174.440  172.02  172.50  173.87\n",
       "2019-03-08 05:00:00+00:00  23999300.0  173.070  169.50  172.91  170.32\n",
       "2019-03-11 04:00:00+00:00  32011000.0  179.120  175.35  178.90  175.49\n",
       "2019-03-12 04:00:00+00:00  32467500.0  182.670  179.37  180.91  180.00\n",
       "2019-03-13 04:00:00+00:00  31032500.0  183.300  180.92  181.71  182.25\n",
       "2019-03-14 04:00:00+00:00  23579500.0  184.100  182.56  183.73  183.90\n",
       "2019-03-15 04:00:00+00:00  39042900.0  187.330  183.74  186.12  184.85\n",
       "2019-03-18 04:00:00+00:00  26219800.0  188.390  185.79  188.02  185.80\n",
       "2019-03-19 04:00:00+00:00  31646300.0  188.990  185.92  186.53  188.35\n",
       "2019-03-20 04:00:00+00:00  31035200.0  189.490  184.73  188.16  186.23\n",
       "2019-03-21 04:00:00+00:00  51034200.0  196.330  189.81  195.09  190.02\n",
       "2019-03-22 04:00:00+00:00  42407600.0  197.690  190.78  191.05  195.34\n",
       "2019-03-25 04:00:00+00:00  43845200.0  191.980  186.60  188.74  191.51\n",
       "2019-03-26 04:00:00+00:00  49800500.0  192.880  184.58  186.79  191.66\n",
       "2019-03-27 04:00:00+00:00  29848400.0  189.760  186.55  188.47  188.75\n",
       "2019-03-28 04:00:00+00:00  20780300.0  189.559  187.53  188.72  188.95\n",
       "2019-03-29 04:00:00+00:00  23563900.0  190.080  188.54  189.95  189.83\n",
       "2019-04-01 04:00:00+00:00  27861900.0  191.680  188.38  191.24  191.64\n",
       "2019-04-02 04:00:00+00:00  22765700.0  194.460  191.05  194.02  191.09\n",
       "2019-04-03 04:00:00+00:00  23271800.0  196.500  193.15  195.35  193.25\n",
       "2019-04-04 04:00:00+00:00  19114200.0  196.370  193.14  195.69  194.79\n",
       "2019-04-05 04:00:00+00:00  18526600.0  197.100  195.93  197.00  196.45"
      ]
     },
     "execution_count": 90,
     "metadata": {},
     "output_type": "execute_result"
    }
   ],
   "source": [
    "hourly_data = dedup_df.resample('H').mean()\n",
    "hourly_data.dropna(inplace=True)\n",
    "hourly_data"
   ]
  },
  {
   "cell_type": "markdown",
   "metadata": {},
   "source": [
    "It looks like the stocks data are only updated at 2 distinct hours: 4 and 5am. \n",
    "\n",
    "\n",
    "It also seems that we don't always get data for each day. We are for instance missing data for March 9th and March 10th, 2019. "
   ]
  },
  {
   "cell_type": "code",
   "execution_count": 101,
   "metadata": {},
   "outputs": [
    {
     "data": {
      "text/html": [
       "<div>\n",
       "<style scoped>\n",
       "    .dataframe tbody tr th:only-of-type {\n",
       "        vertical-align: middle;\n",
       "    }\n",
       "\n",
       "    .dataframe tbody tr th {\n",
       "        vertical-align: top;\n",
       "    }\n",
       "\n",
       "    .dataframe thead th {\n",
       "        text-align: right;\n",
       "    }\n",
       "</style>\n",
       "<table border=\"1\" class=\"dataframe\">\n",
       "  <thead>\n",
       "    <tr style=\"text-align: right;\">\n",
       "      <th></th>\n",
       "      <th>volume</th>\n",
       "      <th>high</th>\n",
       "      <th>low</th>\n",
       "      <th>close</th>\n",
       "      <th>open</th>\n",
       "    </tr>\n",
       "    <tr>\n",
       "      <th>timestamp</th>\n",
       "      <th></th>\n",
       "      <th></th>\n",
       "      <th></th>\n",
       "      <th></th>\n",
       "      <th></th>\n",
       "    </tr>\n",
       "  </thead>\n",
       "  <tbody>\n",
       "    <tr>\n",
       "      <th>Friday</th>\n",
       "      <td>29508060</td>\n",
       "      <td>189.0540</td>\n",
       "      <td>185.6980</td>\n",
       "      <td>187.4060</td>\n",
       "      <td>187.358</td>\n",
       "    </tr>\n",
       "    <tr>\n",
       "      <th>Monday</th>\n",
       "      <td>32484475</td>\n",
       "      <td>187.7925</td>\n",
       "      <td>184.0300</td>\n",
       "      <td>186.7250</td>\n",
       "      <td>186.110</td>\n",
       "    </tr>\n",
       "    <tr>\n",
       "      <th>Thursday</th>\n",
       "      <td>27860900</td>\n",
       "      <td>188.1598</td>\n",
       "      <td>185.0120</td>\n",
       "      <td>187.1460</td>\n",
       "      <td>186.306</td>\n",
       "    </tr>\n",
       "    <tr>\n",
       "      <th>Tuesday</th>\n",
       "      <td>34170000</td>\n",
       "      <td>189.7500</td>\n",
       "      <td>185.2300</td>\n",
       "      <td>187.0625</td>\n",
       "      <td>187.775</td>\n",
       "    </tr>\n",
       "    <tr>\n",
       "      <th>Wednesday</th>\n",
       "      <td>28796975</td>\n",
       "      <td>189.7625</td>\n",
       "      <td>186.3375</td>\n",
       "      <td>188.4225</td>\n",
       "      <td>187.620</td>\n",
       "    </tr>\n",
       "  </tbody>\n",
       "</table>\n",
       "</div>"
      ],
      "text/plain": [
       "             volume      high       low     close     open\n",
       "timestamp                                                 \n",
       "Friday     29508060  189.0540  185.6980  187.4060  187.358\n",
       "Monday     32484475  187.7925  184.0300  186.7250  186.110\n",
       "Thursday   27860900  188.1598  185.0120  187.1460  186.306\n",
       "Tuesday    34170000  189.7500  185.2300  187.0625  187.775\n",
       "Wednesday  28796975  189.7625  186.3375  188.4225  187.620"
      ]
     },
     "execution_count": 101,
     "metadata": {},
     "output_type": "execute_result"
    }
   ],
   "source": [
    "day_of_week = dedup_df.groupby([dedup_df.index.weekday_name]).mean()\n",
    "day_of_week"
   ]
  },
  {
   "cell_type": "markdown",
   "metadata": {},
   "source": [
    "As one can expect, there doesn't seem to be any exchange happening during the weekend."
   ]
  },
  {
   "cell_type": "markdown",
   "metadata": {},
   "source": [
    "We got rid of null and duplicate values. Our data looks good now. We can move forward with some preliminary analysis."
   ]
  },
  {
   "cell_type": "markdown",
   "metadata": {},
   "source": [
    "# Data Analysis - Stock Data"
   ]
  },
  {
   "cell_type": "markdown",
   "metadata": {},
   "source": [
    "Let's have a look at how the Apple's stock price performed over the past 30 days."
   ]
  },
  {
   "cell_type": "code",
   "execution_count": 91,
   "metadata": {},
   "outputs": [
    {
     "data": {
      "image/png": "[encoded data removed]",
      "text/plain": [
       "<Figure size 432x288 with 1 Axes>"
      ]
     },
     "metadata": {
      "needs_background": "light"
     },
     "output_type": "display_data"
    }
   ],
   "source": [
    "import matplotlib.pyplot as plt\n",
    "dedup_df.plot(y=['close','high','low','open'], use_index=True)\n",
    "plt.title('AAPL stock price')\n",
    "plt.ylabel('Price (USD)')\n",
    "plt.show()"
   ]
  },
  {
   "cell_type": "markdown",
   "metadata": {},
   "source": [
    "It looks like over the past 30 days, Apple's stock has overall increased. "
   ]
  },
  {
   "cell_type": "markdown",
   "metadata": {},
   "source": [
    "From wikipedia, volume is commonly reported as the number of shares that changed hands during a given day. Let's check if the volume for Apple's stock has changed over time. "
   ]
  },
  {
   "cell_type": "code",
   "execution_count": 109,
   "metadata": {},
   "outputs": [
    {
     "data": {
      "image/png": "[encoded data removed]",
      "text/plain": [
       "<Figure size 432x288 with 1 Axes>"
      ]
     },
     "metadata": {
      "needs_background": "light"
     },
     "output_type": "display_data"
    }
   ],
   "source": [
    "dedup_df.plot(y=['volume'], use_index=True)\n",
    "plt.title('Number of exchanges over time')\n",
    "plt.ylabel('Volume')\n",
    "plt.show()"
   ]
  },
  {
   "cell_type": "markdown",
   "metadata": {},
   "source": [
    "It looks like the volume has been changing quite a lot for the past 30 days. \n",
    "Let's see if there is any relationship between volume and Apple's stock. For that let's plot a correlation matrix."
   ]
  },
  {
   "cell_type": "code",
   "execution_count": 83,
   "metadata": {},
   "outputs": [
    {
     "data": {
      "image/png": "[encoded data removed]",
      "text/plain": [
       "<Figure size 720x720 with 1 Axes>"
      ]
     },
     "metadata": {
      "needs_background": "light"
     },
     "output_type": "display_data"
    }
   ],
   "source": [
    "corr = dedup_df.corr()\n",
    "fig, ax = plt.subplots(figsize=(10, 10))\n",
    "ax.matshow(corr)\n",
    "plt.xticks(range(len(corr.columns)), corr.columns);\n",
    "plt.yticks(range(len(corr.columns)), corr.columns);"
   ]
  },
  {
   "cell_type": "markdown",
   "metadata": {},
   "source": [
    "This correlation matrix shows that there doesn't seem to be a relationship between volume and stock price (close, high, open, and low)."
   ]
  },
  {
   "cell_type": "markdown",
   "metadata": {},
   "source": [
    "Let's see if there is any relationship between the day of the week and Apple's stock prices."
   ]
  },
  {
   "cell_type": "code",
   "execution_count": 135,
   "metadata": {},
   "outputs": [
    {
     "data": {
      "text/html": [
       "<div>\n",
       "<style scoped>\n",
       "    .dataframe tbody tr th:only-of-type {\n",
       "        vertical-align: middle;\n",
       "    }\n",
       "\n",
       "    .dataframe tbody tr th {\n",
       "        vertical-align: top;\n",
       "    }\n",
       "\n",
       "    .dataframe thead th {\n",
       "        text-align: right;\n",
       "    }\n",
       "</style>\n",
       "<table border=\"1\" class=\"dataframe\">\n",
       "  <thead>\n",
       "    <tr style=\"text-align: right;\">\n",
       "      <th></th>\n",
       "      <th>volume</th>\n",
       "      <th>symbol</th>\n",
       "      <th>high</th>\n",
       "      <th>tradingDay</th>\n",
       "      <th>low</th>\n",
       "      <th>close</th>\n",
       "      <th>open</th>\n",
       "      <th>day_of_week</th>\n",
       "    </tr>\n",
       "    <tr>\n",
       "      <th>timestamp</th>\n",
       "      <th></th>\n",
       "      <th></th>\n",
       "      <th></th>\n",
       "      <th></th>\n",
       "      <th></th>\n",
       "      <th></th>\n",
       "      <th></th>\n",
       "      <th></th>\n",
       "    </tr>\n",
       "  </thead>\n",
       "  <tbody>\n",
       "    <tr>\n",
       "      <th>2019-03-07 05:00:00+00:00</th>\n",
       "      <td>24796300</td>\n",
       "      <td>AAPL</td>\n",
       "      <td>174.44</td>\n",
       "      <td>2019-03-07</td>\n",
       "      <td>172.02</td>\n",
       "      <td>172.50</td>\n",
       "      <td>173.87</td>\n",
       "      <td>Thursday</td>\n",
       "    </tr>\n",
       "    <tr>\n",
       "      <th>2019-03-08 05:00:00+00:00</th>\n",
       "      <td>23999300</td>\n",
       "      <td>AAPL</td>\n",
       "      <td>173.07</td>\n",
       "      <td>2019-03-08</td>\n",
       "      <td>169.50</td>\n",
       "      <td>172.91</td>\n",
       "      <td>170.32</td>\n",
       "      <td>Friday</td>\n",
       "    </tr>\n",
       "    <tr>\n",
       "      <th>2019-03-11 04:00:00+00:00</th>\n",
       "      <td>32011000</td>\n",
       "      <td>AAPL</td>\n",
       "      <td>179.12</td>\n",
       "      <td>2019-03-11</td>\n",
       "      <td>175.35</td>\n",
       "      <td>178.90</td>\n",
       "      <td>175.49</td>\n",
       "      <td>Monday</td>\n",
       "    </tr>\n",
       "    <tr>\n",
       "      <th>2019-03-12 04:00:00+00:00</th>\n",
       "      <td>32467500</td>\n",
       "      <td>AAPL</td>\n",
       "      <td>182.67</td>\n",
       "      <td>2019-03-12</td>\n",
       "      <td>179.37</td>\n",
       "      <td>180.91</td>\n",
       "      <td>180.00</td>\n",
       "      <td>Tuesday</td>\n",
       "    </tr>\n",
       "    <tr>\n",
       "      <th>2019-03-13 04:00:00+00:00</th>\n",
       "      <td>31032500</td>\n",
       "      <td>AAPL</td>\n",
       "      <td>183.30</td>\n",
       "      <td>2019-03-13</td>\n",
       "      <td>180.92</td>\n",
       "      <td>181.71</td>\n",
       "      <td>182.25</td>\n",
       "      <td>Wednesday</td>\n",
       "    </tr>\n",
       "  </tbody>\n",
       "</table>\n",
       "</div>"
      ],
      "text/plain": [
       "                             volume symbol    high  tradingDay     low  \\\n",
       "timestamp                                                                \n",
       "2019-03-07 05:00:00+00:00  24796300   AAPL  174.44  2019-03-07  172.02   \n",
       "2019-03-08 05:00:00+00:00  23999300   AAPL  173.07  2019-03-08  169.50   \n",
       "2019-03-11 04:00:00+00:00  32011000   AAPL  179.12  2019-03-11  175.35   \n",
       "2019-03-12 04:00:00+00:00  32467500   AAPL  182.67  2019-03-12  179.37   \n",
       "2019-03-13 04:00:00+00:00  31032500   AAPL  183.30  2019-03-13  180.92   \n",
       "\n",
       "                            close    open day_of_week  \n",
       "timestamp                                              \n",
       "2019-03-07 05:00:00+00:00  172.50  173.87    Thursday  \n",
       "2019-03-08 05:00:00+00:00  172.91  170.32      Friday  \n",
       "2019-03-11 04:00:00+00:00  178.90  175.49      Monday  \n",
       "2019-03-12 04:00:00+00:00  180.91  180.00     Tuesday  \n",
       "2019-03-13 04:00:00+00:00  181.71  182.25   Wednesday  "
      ]
     },
     "execution_count": 135,
     "metadata": {},
     "output_type": "execute_result"
    }
   ],
   "source": [
    "\n",
    "week_df = dedup_df.copy(deep=True)\n",
    "week_df['day_of_week'] = dedup_df.index.day_name()\n",
    "week_df.head()"
   ]
  },
  {
   "cell_type": "code",
   "execution_count": 136,
   "metadata": {},
   "outputs": [
    {
     "data": {
      "image/png": "[encoded data removed]",
      "text/plain": [
       "<Figure size 432x288 with 1 Axes>"
      ]
     },
     "metadata": {
      "needs_background": "light"
     },
     "output_type": "display_data"
    }
   ],
   "source": [
    "\n",
    "days = ['Monday', 'Tuesday', 'Wednesday', 'Thursday', 'Friday']\n",
    "week_df = week_df.groupby(week_df.day_of_week).mean().reindex(days)\n",
    "week_df.plot(y=['volume'],kind='bar')\n",
    "plt.title('Number of exchanges per weekday')\n",
    "plt.ylabel('Volume')\n",
    "plt.show()"
   ]
  },
  {
   "cell_type": "markdown",
   "metadata": {},
   "source": [
    "Based on this data, there doesn't seem to be a relationship between day of the week and the number of exchanges. "
   ]
  },
  {
   "cell_type": "code",
   "execution_count": 138,
   "metadata": {},
   "outputs": [
    {
     "data": {
      "image/png": "[encoded data removed]",
      "text/plain": [
       "<Figure size 432x288 with 1 Axes>"
      ]
     },
     "metadata": {
      "needs_background": "light"
     },
     "output_type": "display_data"
    }
   ],
   "source": [
    "week_df.plot(y=['close','high','open','low'], kind='bar')\n",
    "plt.title('Weekday vs Apple stock price')\n",
    "plt.ylabel('Price (USD)')\n",
    "plt.show()"
   ]
  },
  {
   "cell_type": "markdown",
   "metadata": {},
   "source": [
    "The above chart shows that the stock price doesn't really change with the day of week. "
   ]
  },
  {
   "cell_type": "markdown",
   "metadata": {},
   "source": [
    "## Summary and Insights on stock data\n",
    "\n"
   ]
  },
  {
   "cell_type": "markdown",
   "metadata": {},
   "source": [
    "### Data Audit: \n",
    "1. \"openInterest\" field was always None. \n",
    "2. There were a lot of duplicate data.\n",
    "3. The data is not complete: some days are missing (in this case March 9th, 10th) \n",
    "4. The data is only updated at 4am and 5am. \n",
    "5. There are no data for weekends.\n",
    "\n",
    "### Data Analysis:\n",
    "1. Overall trend of Apple's stock over the last 30 days: we see an steady increase in Apple's stock prices.\n",
    "2. The number of share exchanges (volume) fluctuates quite a bit over the past 30 days.\n",
    "3. There doesn't seem to be a relationship between the number of share exchanges and the stock prices.\n",
    "4. There doesn't seem to be a relationship betwee stock price and day of the week.\\\n",
    "\n",
    "\n",
    "### Notes:\n",
    "It is important to note that more data needs to be analyzed in order to deduce better, more trustworthy insights. "
   ]
  },
  {
   "cell_type": "code",
   "execution_count": null,
   "metadata": {},
   "outputs": [],
   "source": []
  }
 ],
 "metadata": {
  "kernelspec": {
   "display_name": "Python 2",
   "language": "python",
   "name": "python2"
  },
  "language_info": {
   "codemirror_mode": {
    "name": "ipython",
    "version": 2
   },
   "file_extension": ".py",
   "mimetype": "text/x-python",
   "name": "python",
   "nbconvert_exporter": "python",
   "pygments_lexer": "ipython2",
   "version": "2.7.16"
  }
 },
 "nbformat": 4,
 "nbformat_minor": 1
}
