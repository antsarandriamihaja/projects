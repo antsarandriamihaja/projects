{
 "cells": [
  {
   "cell_type": "code",
   "execution_count": 1,
   "metadata": {},
   "outputs": [
    {
     "name": "stdout",
     "output_type": "stream",
     "text": [
      "Requirement already satisfied: ondemand in /Users/antsar/anaconda3/lib/python3.6/site-packages (1.0.0)\r\n",
      "Requirement already satisfied: requests>=2.3.0 in /Users/antsar/anaconda3/lib/python3.6/site-packages (from ondemand) (2.18.4)\r\n",
      "Requirement already satisfied: chardet<3.1.0,>=3.0.2 in /Users/antsar/anaconda3/lib/python3.6/site-packages (from requests>=2.3.0->ondemand) (3.0.4)\r\n",
      "Requirement already satisfied: idna<2.7,>=2.5 in /Users/antsar/anaconda3/lib/python3.6/site-packages (from requests>=2.3.0->ondemand) (2.6)\r\n",
      "Requirement already satisfied: urllib3<1.23,>=1.21.1 in /Users/antsar/anaconda3/lib/python3.6/site-packages (from requests>=2.3.0->ondemand) (1.22)\r\n",
      "Requirement already satisfied: certifi>=2017.4.17 in /Users/antsar/anaconda3/lib/python3.6/site-packages (from requests>=2.3.0->ondemand) (2018.4.16)\r\n"
     ]
    }
   ],
   "source": [
    "!pip install ondemand"
   ]
  },
  {
   "cell_type": "code",
   "execution_count": 20,
   "metadata": {},
   "outputs": [],
   "source": [
    "def get_start_date(delay):\n",
    "    #delay = 30days \n",
    "    import datetime\n",
    "    start_date = datetime.datetime.now() + datetime.timedelta(-delay)\n",
    "    return start_date.strftime('%Y%m%d')"
   ]
  },
  {
   "cell_type": "code",
   "execution_count": 1,
   "metadata": {},
   "outputs": [],
   "source": [
    "def get_financial_data(company, delay, destPath):\n",
    "    import pandas as pd\n",
    "    import ondemand\n",
    "    import csv\n",
    "    \n",
    "    #start date is 30 days from today's date\n",
    "    start_date = get_start_date(delay)\n",
    "    \n",
    "    #initiate client for barchart API\n",
    "    API_KEY=\"428a0eec5d5084e7f41d13bb1e3edd3d\"\n",
    "    client = ondemand.OnDemandClient(api_key=API_KEY, end_point=\"https://marketdata.websol.barchart.com/\")\n",
    "    \n",
    "    #get daily stock data for company\n",
    "    data = client.history(company,'daily', startDate=start_date)['results']\n",
    "    #sample data result: \n",
    "    #{u'volume': 20810300, u'timestamp': u'2019-03-06T00:00:00-05:00', u'symbol': u'AAPL', u'high': 175.49, u'tradingDay': u'2019-03-06', u'low': 173.94, u'close': 174.52, u'openInterest': None, u'open': 174.67}\n",
    "    \n",
    "    financial_headers= ['volume', 'timestamp', 'symbol', 'high', 'tradingDay', 'low', 'close', 'openInterest', 'open']\n",
    "    f_data = csv.writer(open(destPath, \"wb+\"))\n",
    "    \n",
    "    #write csv header\n",
    "    f_data.writerow(financial_headers)\n",
    "    \n",
    "    for data in data:\n",
    "        f_data.writerow([data['volume'],\n",
    "                data['timestamp'],\n",
    "                data['symbol'],\n",
    "                data['high'],\n",
    "                data['tradingDay'],\n",
    "                data['low'],\n",
    "                data['close'],\n",
    "                data['openInterest'],\n",
    "                data['open']])\n",
    "    \n"
   ]
  },
  {
   "cell_type": "code",
   "execution_count": 2,
   "metadata": {},
   "outputs": [
    {
     "ename": "NameError",
     "evalue": "global name 'get_start_date' is not defined",
     "traceback": [
      "\u001b[0;31m\u001b[0m",
      "\u001b[0;31mNameError\u001b[0mTraceback (most recent call last)",
      "\u001b[0;32m<ipython-input-2-2560862abdbe>\u001b[0m in \u001b[0;36m<module>\u001b[0;34m()\u001b[0m\n\u001b[1;32m      1\u001b[0m \u001b[0;31m# get Apple's stock price for the past 30 days.\u001b[0m\u001b[0;34m\u001b[0m\u001b[0;34m\u001b[0m\u001b[0m\n\u001b[0;32m----> 2\u001b[0;31m \u001b[0mget_financial_data\u001b[0m\u001b[0;34m(\u001b[0m\u001b[0;34m\"AAPL\"\u001b[0m\u001b[0;34m,\u001b[0m \u001b[0;36m15\u001b[0m\u001b[0;34m,\u001b[0m \u001b[0;34m\"financial_data1.csv\"\u001b[0m\u001b[0;34m)\u001b[0m\u001b[0;34m\u001b[0m\u001b[0m\n\u001b[0m",
      "\u001b[0;32m<ipython-input-1-12b2806a027e>\u001b[0m in \u001b[0;36mget_financial_data\u001b[0;34m(company, delay, destPath)\u001b[0m\n\u001b[1;32m      5\u001b[0m \u001b[0;34m\u001b[0m\u001b[0m\n\u001b[1;32m      6\u001b[0m     \u001b[0;31m#start date is 30 days from today's date\u001b[0m\u001b[0;34m\u001b[0m\u001b[0;34m\u001b[0m\u001b[0m\n\u001b[0;32m----> 7\u001b[0;31m     \u001b[0mstart_date\u001b[0m \u001b[0;34m=\u001b[0m \u001b[0mget_start_date\u001b[0m\u001b[0;34m(\u001b[0m\u001b[0mdelay\u001b[0m\u001b[0;34m)\u001b[0m\u001b[0;34m\u001b[0m\u001b[0m\n\u001b[0m\u001b[1;32m      8\u001b[0m \u001b[0;34m\u001b[0m\u001b[0m\n\u001b[1;32m      9\u001b[0m     \u001b[0;31m#initiate client for barchart API\u001b[0m\u001b[0;34m\u001b[0m\u001b[0;34m\u001b[0m\u001b[0m\n",
      "\u001b[0;31mNameError\u001b[0m: global name 'get_start_date' is not defined"
     ],
     "output_type": "error"
    }
   ],
   "source": [
    "# get Apple's stock price for the past 30 days.\n",
    "get_financial_data(\"AAPL\", 15, \"financial_data1.csv\")"
   ]
  },
  {
   "cell_type": "code",
   "execution_count": 22,
   "metadata": {},
   "outputs": [],
   "source": []
  },
  {
   "cell_type": "code",
   "execution_count": null,
   "metadata": {},
   "outputs": [],
   "source": []
  }
 ],
 "metadata": {
  "kernelspec": {
   "display_name": "Python 3",
   "language": "python",
   "name": "python3"
  },
  "language_info": {
   "codemirror_mode": {
    "name": "ipython",
    "version": 2
   },
   "file_extension": ".py",
   "mimetype": "text/x-python",
   "name": "python",
   "nbconvert_exporter": "python",
   "pygments_lexer": "ipython2",
   "version": "2.7.16"
  }
 },
 "nbformat": 4,
 "nbformat_minor": 1
}
